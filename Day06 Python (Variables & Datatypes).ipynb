{
 "cells": [
  {
   "cell_type": "code",
   "execution_count": 6,
   "id": "9ae0eb2a",
   "metadata": {},
   "outputs": [
    {
     "name": "stdout",
     "output_type": "stream",
     "text": [
      "Kiaan is a very \"good\" boy.\n",
      "His school name is 'RyanInternational'.\n",
      "He likes his school.\n",
      "786\n",
      "86.55\n",
      "True\n",
      "None\n",
      "<class 'str'>\n",
      "<class 'int'>\n",
      "<class 'float'>\n",
      "<class 'bool'>\n",
      "<class 'NoneType'>\n"
     ]
    }
   ],
   "source": [
    "# VARIABLES\n",
    "\n",
    "a = '''Kiaan is a very \"good\" boy.\n",
    "His school name is 'RyanInternational'.\n",
    "He likes his school.'''\n",
    "b = 786\n",
    "c = 86.55\n",
    "d = True\n",
    "e = None\n",
    "\n",
    "# printing the variable\n",
    "print(a)\n",
    "print(b)\n",
    "print(c)\n",
    "print(d)\n",
    "print(e)\n",
    "\n",
    "# print the type of variable\n",
    "print(type(a))\n",
    "print(type(b))\n",
    "print(type(c))\n",
    "print(type(d))\n",
    "print(type(e))"
   ]
  },
  {
   "cell_type": "code",
   "execution_count": 5,
   "id": "ddfc3ff2",
   "metadata": {},
   "outputs": [
    {
     "name": "stdout",
     "output_type": "stream",
     "text": [
      "the value of 3 + 4 =  7\n",
      "the value of 3 - 4 =  -1\n",
      "the value of 3 * 4 =  12\n",
      "the value of 3 / 4 =  0.75\n",
      "50\n",
      "52\n",
      "50\n",
      "100\n",
      "50.0\n",
      "False\n",
      "True\n",
      "False\n",
      "True\n",
      "True\n",
      "The value of bool1 and bool2 =  False\n",
      "The value of bool1 or bool2 =  True\n",
      "The value of not bool1 =  False\n"
     ]
    }
   ],
   "source": [
    "# OPERATORS\n",
    "\n",
    "# Arithmatic Operators\n",
    "print(\"the value of 3 + 4 = \",3+4)\n",
    "print(\"the value of 3 - 4 = \",3-4)\n",
    "print(\"the value of 3 * 4 = \",3*4)\n",
    "print(\"the value of 3 / 4 = \",3/4)\n",
    "\n",
    "# Assignment Operators\n",
    "a = 50\n",
    "print(a)\n",
    "a += 2\n",
    "print(a)\n",
    "a -= 2\n",
    "print(a)\n",
    "a *= 2\n",
    "print(a)\n",
    "a /= 2\n",
    "print(a) # here we will get 50.0 as after div data type changes to float\n",
    "\n",
    "# Comparison Operators\n",
    "p = (10<5)\n",
    "print(p)\n",
    "q = (10>5)\n",
    "print(q)\n",
    "r = (10==5)\n",
    "print(r)\n",
    "s = (10==10.0)\n",
    "print(s)\n",
    "t = (10!=5)\n",
    "print(t)\n",
    "\n",
    "# Logical Operators\n",
    "bool1 = True\n",
    "bool2 = False\n",
    "print(\"The value of bool1 and bool2 = \", bool1 and bool2)\n",
    "print(\"The value of bool1 or bool2 = \", bool1 or bool2)\n",
    "print(\"The value of not bool1 = \", not bool1)"
   ]
  },
  {
   "cell_type": "code",
   "execution_count": 9,
   "id": "19b2cbe4",
   "metadata": {},
   "outputs": [
    {
     "name": "stdout",
     "output_type": "stream",
     "text": [
      "<class 'str'>\n",
      "<class 'int'>\n",
      "<class 'float'>\n",
      "<class 'bool'>\n"
     ]
    }
   ],
   "source": [
    "#TYPECASTING\n",
    "\n",
    "a = \"10\"\n",
    "print(type(a))\n",
    "a = int(a) #here string a will be converted to datatype int if possible\n",
    "print(type(a))\n",
    "a = float(a) #here int a will be converted to datatype float if possible\n",
    "print(type(a))\n",
    "a = bool(a) #here float a will be converted to datatype bool if possible\n",
    "print(type(a))"
   ]
  },
  {
   "cell_type": "code",
   "execution_count": 10,
   "id": "ca48ba4d",
   "metadata": {},
   "outputs": [
    {
     "name": "stdout",
     "output_type": "stream",
     "text": [
      "Enter your name: Kiaan\n",
      "Enter your age: 5\n",
      "My name is  Kiaan My age is  5  years\n",
      "After 10 yrs I will be  15  years old.\n"
     ]
    }
   ],
   "source": [
    "#INPUT FUNCTION\n",
    "\n",
    "a = input(\"Enter your name: \")\n",
    "b = input(\"Enter your age: \")\n",
    "b = int(b)\n",
    "print(\"My name is \",a, \"My age is \",b,\" years\")\n",
    "print(\"After 10 yrs I will be \",b+10, \" years old.\")"
   ]
  },
  {
   "cell_type": "code",
   "execution_count": null,
   "id": "2f4521db",
   "metadata": {},
   "outputs": [],
   "source": [
    "#PRACTICE SET"
   ]
  },
  {
   "cell_type": "code",
   "execution_count": 11,
   "id": "bee5c1b3",
   "metadata": {},
   "outputs": [
    {
     "name": "stdout",
     "output_type": "stream",
     "text": [
      "Enter first num: 5\n",
      "Enter second num: 6\n",
      "The addition of first & second number is  11\n"
     ]
    }
   ],
   "source": [
    "#PR01\n",
    "\n",
    "a = input(\"Enter first num: \")\n",
    "a = int(a)\n",
    "b = input(\"Enter second num: \")\n",
    "b = int(b)\n",
    "print(\"The addition of first & second number is \",a+b)"
   ]
  },
  {
   "cell_type": "code",
   "execution_count": 12,
   "id": "95be0eab",
   "metadata": {},
   "outputs": [
    {
     "name": "stdout",
     "output_type": "stream",
     "text": [
      "Enter num1: 15\n",
      "Enter num2: 6\n",
      "The remainder when num1/num2 is  3\n"
     ]
    }
   ],
   "source": [
    "#PR02\n",
    "\n",
    "a = input(\"Enter num1: \")\n",
    "a = int(a)\n",
    "b = input(\"Enter num2: \")\n",
    "b = int(b)\n",
    "print(\"The remainder when num1/num2 is \",a%b)"
   ]
  },
  {
   "cell_type": "code",
   "execution_count": 13,
   "id": "ddc1fe10",
   "metadata": {},
   "outputs": [
    {
     "name": "stdout",
     "output_type": "stream",
     "text": [
      "Enter : sohail\n",
      "<class 'str'>\n"
     ]
    }
   ],
   "source": [
    "#PR03\n",
    "\n",
    "a = input(\"Enter : \")\n",
    "print(type(a))"
   ]
  },
  {
   "cell_type": "code",
   "execution_count": 16,
   "id": "419fa10c",
   "metadata": {},
   "outputs": [
    {
     "name": "stdout",
     "output_type": "stream",
     "text": [
      "Enter num1: 8\n",
      "Enter num2: 9\n",
      "The avg of num1 & num2 is  8.5\n"
     ]
    }
   ],
   "source": [
    "#PR05\n",
    "\n",
    "a = input(\"Enter num1: \")\n",
    "a = int(a)\n",
    "b = input(\"Enter num2: \")\n",
    "b = int(b)\n",
    "avg = (a+b)/2\n",
    "print(\"The avg of num1 & num2 is \",avg)"
   ]
  },
  {
   "cell_type": "code",
   "execution_count": 17,
   "id": "ce3e7607",
   "metadata": {},
   "outputs": [
    {
     "name": "stdout",
     "output_type": "stream",
     "text": [
      "Enter a number to be squared = 4\n",
      "The square of 4 is 16\n"
     ]
    }
   ],
   "source": [
    "#PR06\n",
    "\n",
    "a = input(\"Enter a number to be squared = \")\n",
    "a = int(a)\n",
    "sqr = a*a\n",
    "print(f\"The square of {a} is {sqr}\")"
   ]
  },
  {
   "cell_type": "code",
   "execution_count": null,
   "id": "7889eb1c",
   "metadata": {},
   "outputs": [],
   "source": []
  },
  {
   "cell_type": "code",
   "execution_count": null,
   "id": "d426169b",
   "metadata": {},
   "outputs": [],
   "source": []
  },
  {
   "cell_type": "code",
   "execution_count": null,
   "id": "2e0a6002",
   "metadata": {},
   "outputs": [],
   "source": []
  },
  {
   "cell_type": "code",
   "execution_count": null,
   "id": "132f1ff4",
   "metadata": {},
   "outputs": [],
   "source": []
  },
  {
   "cell_type": "code",
   "execution_count": null,
   "id": "91221b80",
   "metadata": {},
   "outputs": [],
   "source": []
  }
 ],
 "metadata": {
  "kernelspec": {
   "display_name": "Python 3 (ipykernel)",
   "language": "python",
   "name": "python3"
  },
  "language_info": {
   "codemirror_mode": {
    "name": "ipython",
    "version": 3
   },
   "file_extension": ".py",
   "mimetype": "text/x-python",
   "name": "python",
   "nbconvert_exporter": "python",
   "pygments_lexer": "ipython3",
   "version": "3.9.7"
  }
 },
 "nbformat": 4,
 "nbformat_minor": 5
}
