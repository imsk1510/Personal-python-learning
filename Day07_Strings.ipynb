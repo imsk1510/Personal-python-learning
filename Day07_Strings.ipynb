{
 "cells": [
  {
   "cell_type": "code",
   "execution_count": 6,
   "id": "b180e27a",
   "metadata": {},
   "outputs": [
    {
     "name": "stdout",
     "output_type": "stream",
     "text": [
      "K\n",
      "aan Kaz\n"
     ]
    }
   ],
   "source": [
    "# SLICING\n",
    "\n",
    "name = \"Kiaan Kazi\"\n",
    "print(name[6])\n",
    "#name[5] = \".\"  #-----> Doesnt work\n",
    "print(name[-8:-1])"
   ]
  },
  {
   "cell_type": "code",
   "execution_count": 7,
   "id": "9e74df26",
   "metadata": {},
   "outputs": [
    {
     "name": "stdout",
     "output_type": "stream",
     "text": [
      "KaaIGdy\n"
     ]
    }
   ],
   "source": [
    "# SLICING WITH SKIP\n",
    "\n",
    "name = (\"KiaanKaziIsAGoodBoy\")\n",
    "print(name[0::3])"
   ]
  },
  {
   "cell_type": "code",
   "execution_count": 13,
   "id": "7fe932e2",
   "metadata": {},
   "outputs": [
    {
     "name": "stdout",
     "output_type": "stream",
     "text": [
      "India is my\\country.\n",
      "All\tIndians are my 'brothers & sisters'\n"
     ]
    }
   ],
   "source": [
    "#ESCAPE SEQUENCE\n",
    "\n",
    "a = \"India is my\\\\country.\\nAll\\tIndians are my \\'brothers & sisters'\"\n",
    "print(a)"
   ]
  },
  {
   "cell_type": "code",
   "execution_count": 23,
   "id": "60d3734b",
   "metadata": {},
   "outputs": [
    {
     "name": "stdout",
     "output_type": "stream",
     "text": [
      "497\n",
      "True\n",
      "False\n",
      "43\n"
     ]
    }
   ],
   "source": [
    "# StringFunctions\n",
    "\n",
    "story=\"Paragraphs can contain many different kinds of information. A paragraph could contain a series of brief examples or a single long illustration of a general point. It might describe a place, character, or process; narrate a series of events; compare or contrast two or more things; classify items into categories; or describe causes and effects. Regardless of the kind of information they contain, all paragraphs share certain characteristics. One of the most important of these is a topic sentence\"\n",
    "\n",
    "print(len(story))\n",
    "print(story.endswith(\"sentence\"))\n",
    "print(story.endswith(\"sentce\"))\n",
    "print(story.count(\"a\"))#It will count no.of \"a\" in string"
   ]
  },
  {
   "cell_type": "code",
   "execution_count": 24,
   "id": "c84b99cf",
   "metadata": {},
   "outputs": [
    {
     "name": "stdout",
     "output_type": "stream",
     "text": [
      "61\n",
      "True\n",
      "4\n",
      "2\n",
      "India is my country.\n",
      "all indians are my brothers and sisters.\n",
      "0\n",
      "burma is my Country.\n",
      "All burmans are my brothers and sisters.\n"
     ]
    }
   ],
   "source": [
    "# StringFunctions\n",
    "\n",
    "x = '''india is my Country.\n",
    "All indians are my brothers and sisters.'''\n",
    "\n",
    "print(len(x))\n",
    "print(x.endswith(\".\"))\n",
    "print(x.count(\"a\"))\n",
    "print(x.count(\"ia\"))\n",
    "print(x.capitalize())\n",
    "print(x.find(\"india\")) #it will only show the position of 1st india\n",
    "print(x.replace(\"india\",\"burma\"))"
   ]
  },
  {
   "cell_type": "code",
   "execution_count": 14,
   "id": "a92ffc68",
   "metadata": {},
   "outputs": [
    {
     "name": "stdout",
     "output_type": "stream",
     "text": [
      "Enter your name: Suhail\n",
      "Have a nice day, Suhail\n"
     ]
    }
   ],
   "source": [
    "#PR01\n",
    "\n",
    "a = input(\"Enter your name: \")\n",
    "print(\"Have a nice day, \"+a)"
   ]
  },
  {
   "cell_type": "code",
   "execution_count": 16,
   "id": "9a506169",
   "metadata": {},
   "outputs": [
    {
     "name": "stdout",
     "output_type": "stream",
     "text": [
      "Enter your name: Suhail\n",
      "Enter the date: 25th June 2022\n",
      "Dear Suhail,\n",
      "greetings from SRA Solutions.\n",
      "We are pleased to inform you that you have been selected.\n",
      "Congratulations.\n",
      "Date: 25th June 2022 \n"
     ]
    }
   ],
   "source": [
    "#PR02\n",
    "\n",
    "letter = '''Dear NAME,\n",
    "greetings from SRA Solutions.\n",
    "We are pleased to inform you that you have been selected.\n",
    "Congratulations.\n",
    "Date: DATE '''\n",
    "\n",
    "name = input(\"Enter your name: \")\n",
    "date = input(\"Enter the date: \")\n",
    "letter = letter.replace(\"NAME\",name)\n",
    "letter = letter.replace(\"DATE\",date)\n",
    "print(letter)"
   ]
  },
  {
   "cell_type": "code",
   "execution_count": 20,
   "id": "770186f6",
   "metadata": {},
   "outputs": [
    {
     "name": "stdout",
     "output_type": "stream",
     "text": [
      "3\n",
      "19\n"
     ]
    }
   ],
   "source": [
    "#PR03\n",
    "\n",
    "a = \"ye duniya ek dulhan  . Ye mera India.\"\n",
    "print(a.find(\"duniya\"))     #method 1\n",
    "\n",
    "doubleSpace = a.find(\"  \")  #method 2\n",
    "print(doubleSpace)"
   ]
  },
  {
   "cell_type": "code",
   "execution_count": 22,
   "id": "24af3574",
   "metadata": {},
   "outputs": [
    {
     "name": "stdout",
     "output_type": "stream",
     "text": [
      "ye dunia ek dulhan.\n",
      "Ye mera India.\n",
      "ye dunia ek dulhan.\n",
      "Ye mera India.\n"
     ]
    }
   ],
   "source": [
    "#PR04\n",
    "\n",
    "a = \"ye dunia  ek  dulhan.\\nYe mera  India.\" \n",
    "print(a.replace(\"  \",\" \"))  #method 1\n",
    "\n",
    "a = a.replace(\"  \",\" \")     #method 2\n",
    "print(a)"
   ]
  },
  {
   "cell_type": "code",
   "execution_count": 26,
   "id": "89645c35",
   "metadata": {},
   "outputs": [
    {
     "name": "stdout",
     "output_type": "stream",
     "text": [
      "Dear Harry,\n",
      "\tThis Python course is nice.\n",
      "\t\tThanks \n"
     ]
    }
   ],
   "source": [
    "letter = \"Dear Harry,\\n\\tThis Python course is nice.\\n\\t\\tThanks \"\n",
    "print(letter)"
   ]
  },
  {
   "cell_type": "code",
   "execution_count": null,
   "id": "b7823edb",
   "metadata": {},
   "outputs": [],
   "source": []
  },
  {
   "cell_type": "code",
   "execution_count": null,
   "id": "323d28f7",
   "metadata": {},
   "outputs": [],
   "source": []
  },
  {
   "cell_type": "code",
   "execution_count": null,
   "id": "e23f5cf9",
   "metadata": {},
   "outputs": [],
   "source": []
  },
  {
   "cell_type": "code",
   "execution_count": null,
   "id": "420341bb",
   "metadata": {},
   "outputs": [],
   "source": []
  }
 ],
 "metadata": {
  "kernelspec": {
   "display_name": "Python 3 (ipykernel)",
   "language": "python",
   "name": "python3"
  },
  "language_info": {
   "codemirror_mode": {
    "name": "ipython",
    "version": 3
   },
   "file_extension": ".py",
   "mimetype": "text/x-python",
   "name": "python",
   "nbconvert_exporter": "python",
   "pygments_lexer": "ipython3",
   "version": "3.9.7"
  }
 },
 "nbformat": 4,
 "nbformat_minor": 5
}
