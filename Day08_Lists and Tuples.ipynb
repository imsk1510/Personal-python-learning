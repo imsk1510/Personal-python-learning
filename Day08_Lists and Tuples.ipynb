{
 "cells": [
  {
   "cell_type": "code",
   "execution_count": 1,
   "id": "36a08d4d",
   "metadata": {},
   "outputs": [
    {
     "name": "stdout",
     "output_type": "stream",
     "text": [
      "[1, 2, 4, 56, 6]\n",
      "4\n",
      "[98, 2, 4, 56, 6]\n",
      "[45, 'Harry', False, 6.9]\n"
     ]
    }
   ],
   "source": [
    "# Create a list using []\n",
    "a = [1, 2 , 4, 56, 6]\n",
    "\n",
    "# Print the list using print() function\n",
    "print(a)\n",
    "\n",
    "# Access using index using a[0], a[1], a[2]\n",
    "print(a[2])\n",
    "\n",
    "# Change the value of list using\n",
    "a[0] = 98\n",
    "print(a)\n",
    "\n",
    "# We can create a list with items of different types\n",
    "c = [45, \"Harry\", False, 6.9]\n",
    "print(c)"
   ]
  },
  {
   "cell_type": "code",
   "execution_count": 4,
   "id": "1b488be2",
   "metadata": {},
   "outputs": [
    {
     "name": "stdout",
     "output_type": "stream",
     "text": [
      "['Harry', 'Tom', 'Rohan', 'Sam']\n",
      "['Rohan', 'Sam', 'Divya', 45]\n"
     ]
    }
   ],
   "source": [
    "# List slicing\n",
    "friends = [\"Harry\", \"Tom\", \"Rohan\", \"Sam\", \"Divya\", 45]\n",
    "print(friends[0:4])\n",
    "print(friends[-4:])\n"
   ]
  },
  {
   "cell_type": "code",
   "execution_count": 5,
   "id": "da2b6ecf",
   "metadata": {},
   "outputs": [
    {
     "name": "stdout",
     "output_type": "stream",
     "text": [
      "<class 'list'>\n"
     ]
    }
   ],
   "source": [
    "friends = [\"kartik\",\"rajesh\",\"anna\",\"sawtya\",\"kundi\"]\n",
    "print(type(friends))"
   ]
  },
  {
   "cell_type": "code",
   "execution_count": 8,
   "id": "37208919",
   "metadata": {},
   "outputs": [
    {
     "name": "stdout",
     "output_type": "stream",
     "text": [
      "[1, 8, 7, 2, 21, 15]\n",
      "[1, 2, 7, 8, 15, 21]\n",
      "[21, 15, 8, 7, 2, 1]\n",
      "[21, 15, 8, 7, 2, 1, 45]\n",
      "[21, 15, 544, 8, 7, 2, 1, 45]\n",
      "[21, 15, 8, 7, 2, 1, 45]\n",
      "[15, 8, 7, 2, 1, 45]\n"
     ]
    }
   ],
   "source": [
    "#LIST METHODS\n",
    "\n",
    "l1 = [1, 8, 7, 2, 21, 15]\n",
    "print(l1)\n",
    "l1.sort() # sorts the list\n",
    "print(l1)\n",
    "l1.reverse() # reverses the list\n",
    "print(l1)\n",
    "l1.append(45) # adds 45 at the end of the list \n",
    "print(l1)\n",
    "l1.insert(2, 544) # inserts 544 at index 2\n",
    "print(l1)\n",
    "l1.pop(2) # removes element at index 2\n",
    "print(l1)\n",
    "l1.remove(21) # removes 21 from the list\n",
    "print(l1)"
   ]
  },
  {
   "cell_type": "code",
   "execution_count": null,
   "id": "d8d1f0f6",
   "metadata": {},
   "outputs": [],
   "source": [
    "#TUPLES\n",
    "\n",
    "# Creating a tuple using ()\n",
    "t = (1, 2, 4, 5)\n",
    "print(type(t))\n",
    "\n",
    "# t1 = () # Empty tuple\n",
    "# t1 = (1) # Wrong way to declare a Tuple with Single element\n",
    "t1 = (1,) # Tuple with Single element\n",
    "print(t1)\n",
    "\n",
    "# Printing the elements of a tuple\n",
    "print(t[0])\n",
    "\n",
    "# Cannot update the values of a tuple\n",
    "# t[0] = 34 # throws an error. Tuple is immutable\n",
    "            # TypeError: 'tuple' object does not support item assignment"
   ]
  },
  {
   "cell_type": "code",
   "execution_count": 1,
   "id": "5bb74cce",
   "metadata": {},
   "outputs": [
    {
     "name": "stdout",
     "output_type": "stream",
     "text": [
      "4\n",
      "3\n"
     ]
    }
   ],
   "source": [
    "# Creating a tuple using ()\n",
    "t = (1, 2, 4, 5, 4, 1, 2,1 ,1)\n",
    "\n",
    "print(t.count(1))\n",
    "print(t.index(5))"
   ]
  },
  {
   "cell_type": "code",
   "execution_count": 2,
   "id": "bd4fc194",
   "metadata": {},
   "outputs": [
    {
     "name": "stdout",
     "output_type": "stream",
     "text": [
      "Enter Fruit Number 1: apple\n",
      "Enter Fruit Number 2: banana\n",
      "Enter Fruit Number 3: mango\n",
      "Enter Fruit Number 4: custard apple\n",
      "Enter Fruit Number 5: papaya\n",
      "Enter Fruit Number 6: lichi\n",
      "Enter Fruit Number 7: grapes\n",
      "Enter Fruit Number 8: watemelon\n",
      "['apple', 'banana', 'mango', 'custard apple', 'papaya', 'lichi', 'grapes', 'watemelon']\n"
     ]
    }
   ],
   "source": [
    "#PR01 (LIST TO STORE 8 DIFFERENT FRUITS FROM USER)\n",
    "\n",
    "f1 = input(\"Enter Fruit Number 1: \")\n",
    "f2 = input(\"Enter Fruit Number 2: \")\n",
    "f3 = input(\"Enter Fruit Number 3: \")\n",
    "f4 = input(\"Enter Fruit Number 4: \")\n",
    "f5 = input(\"Enter Fruit Number 5: \")\n",
    "f6 = input(\"Enter Fruit Number 6: \")\n",
    "f7 = input(\"Enter Fruit Number 7: \")\n",
    "f8 = input(\"Enter Fruit Number 8: \")\n",
    "\n",
    "myFruitList = [f1, f2, f3, f4, f5, f6, f7,f8]\n",
    "print(myFruitList)"
   ]
  },
  {
   "cell_type": "code",
   "execution_count": 5,
   "id": "1380703b",
   "metadata": {},
   "outputs": [
    {
     "name": "stdout",
     "output_type": "stream",
     "text": [
      "Enter marks of Student 01: 89\n",
      "Enter marks of Student 02: 56\n",
      "Enter marks of Student 03: 74\n",
      "Enter marks of Student 04: 69\n",
      "Enter marks of Student 05: 99\n",
      "Enter marks of Student 06: 12\n",
      "[89, 56, 74, 69, 99, 12]\n",
      "[12, 56, 69, 74, 89, 99]\n"
     ]
    }
   ],
   "source": [
    "#PR02\n",
    "\n",
    "m1 = int(input(\"Enter marks of Student 01: \"))\n",
    "m2 = int(input(\"Enter marks of Student 02: \"))\n",
    "m3 = int(input(\"Enter marks of Student 03: \"))\n",
    "m4 = int(input(\"Enter marks of Student 04: \"))\n",
    "m5 = int(input(\"Enter marks of Student 05: \"))\n",
    "m6 = int(input(\"Enter marks of Student 06: \"))\n",
    "\n",
    "marklist = [m1,m2,m3,m4,m5,m6]\n",
    "print(marklist)\n",
    "marklist.sort()\n",
    "print(marklist)"
   ]
  },
  {
   "cell_type": "code",
   "execution_count": 6,
   "id": "57bc9f4f",
   "metadata": {},
   "outputs": [
    {
     "ename": "TypeError",
     "evalue": "'tuple' object does not support item assignment",
     "output_type": "error",
     "traceback": [
      "\u001b[1;31m---------------------------------------------------------------------------\u001b[0m",
      "\u001b[1;31mTypeError\u001b[0m                                 Traceback (most recent call last)",
      "\u001b[1;32m~\\AppData\\Local\\Temp/ipykernel_9988/3834679880.py\u001b[0m in \u001b[0;36m<module>\u001b[1;34m\u001b[0m\n\u001b[0;32m      2\u001b[0m \u001b[1;33m\u001b[0m\u001b[0m\n\u001b[0;32m      3\u001b[0m \u001b[0ma\u001b[0m \u001b[1;33m=\u001b[0m \u001b[1;33m(\u001b[0m\u001b[1;36m2\u001b[0m\u001b[1;33m,\u001b[0m\u001b[1;36m4\u001b[0m\u001b[1;33m,\u001b[0m\u001b[1;36m5\u001b[0m\u001b[1;33m,\u001b[0m\u001b[1;36m3\u001b[0m\u001b[1;33m,\u001b[0m\u001b[1;36m2\u001b[0m\u001b[1;33m)\u001b[0m\u001b[1;33m\u001b[0m\u001b[1;33m\u001b[0m\u001b[0m\n\u001b[1;32m----> 4\u001b[1;33m \u001b[0ma\u001b[0m\u001b[1;33m[\u001b[0m\u001b[1;36m0\u001b[0m\u001b[1;33m]\u001b[0m \u001b[1;33m=\u001b[0m \u001b[1;36m45\u001b[0m\u001b[1;33m\u001b[0m\u001b[1;33m\u001b[0m\u001b[0m\n\u001b[0m",
      "\u001b[1;31mTypeError\u001b[0m: 'tuple' object does not support item assignment"
     ]
    }
   ],
   "source": [
    "#TUPLE CHANGE TEST\n",
    "\n",
    "a = (2,4,5,3,2)\n",
    "a[0] = 45"
   ]
  },
  {
   "cell_type": "code",
   "execution_count": 8,
   "id": "9fa5f3d0",
   "metadata": {},
   "outputs": [
    {
     "name": "stdout",
     "output_type": "stream",
     "text": [
      "69\n",
      "69\n"
     ]
    }
   ],
   "source": [
    "#SUM A LIST\n",
    "\n",
    "a = [2, 4, 56, 7]\n",
    "\n",
    "print(a[0] + a[1] + a[2] + a[3])\n",
    "print(sum(a))"
   ]
  },
  {
   "cell_type": "code",
   "execution_count": null,
   "id": "0e0f906e",
   "metadata": {},
   "outputs": [],
   "source": []
  }
 ],
 "metadata": {
  "kernelspec": {
   "display_name": "Python 3 (ipykernel)",
   "language": "python",
   "name": "python3"
  },
  "language_info": {
   "codemirror_mode": {
    "name": "ipython",
    "version": 3
   },
   "file_extension": ".py",
   "mimetype": "text/x-python",
   "name": "python",
   "nbconvert_exporter": "python",
   "pygments_lexer": "ipython3",
   "version": "3.9.7"
  }
 },
 "nbformat": 4,
 "nbformat_minor": 5
}
