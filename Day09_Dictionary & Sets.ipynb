{
 "cells": [
  {
   "cell_type": "code",
   "execution_count": 45,
   "id": "adc9d28d",
   "metadata": {},
   "outputs": [
    {
     "name": "stdout",
     "output_type": "stream",
     "text": [
      "quickly\n",
      "twenty\n",
      "[25, 35, 100]\n",
      "{'rose': 'gulab'}\n",
      "gulab\n",
      "<class 'dict'>\n"
     ]
    }
   ],
   "source": [
    "a = {\n",
    "    \"Fast\" : \"quickly\",\n",
    "    \"hundred\" : 100,\n",
    "    20 : \"twenty\",\n",
    "    \"marks\" : [25,35,100],\n",
    "    \"dictionary2\" : {\"rose\" : \"gulab\"},\n",
    "    \"languages\" : (\"english\",\"hindi\",\"marathi\")\n",
    "}\n",
    "\n",
    "print(a[\"Fast\"])\n",
    "print(a[20])\n",
    "print(a[\"marks\"])\n",
    "print(a[\"dictionary2\"])\n",
    "print(a[\"dictionary2\"][\"rose\"])\n",
    "\n",
    "print(type(a))"
   ]
  },
  {
   "cell_type": "code",
   "execution_count": 34,
   "id": "90edd9bb",
   "metadata": {},
   "outputs": [
    {
     "name": "stdout",
     "output_type": "stream",
     "text": [
      "dict_keys(['Fast', 'hundred', 20, 'marks', 'dictionary2', 'languages'])\n",
      "['Fast', 'hundred', 20, 'marks', 'dictionary2', 'languages']\n",
      "dict_values(['quickly', 100, 'twenty', [25, 35, 100], {'rose': 'gulab'}, ('english', 'hindi', 'marathi')])\n",
      "dict_items([('Fast', 'quickly'), ('hundred', 100), (20, 'twenty'), ('marks', [25, 35, 100]), ('dictionary2', {'rose': 'gulab'}), ('languages', ('english', 'hindi', 'marathi'))])\n"
     ]
    }
   ],
   "source": [
    "#Dictionary Methods\n",
    "\n",
    "b = {\n",
    "    \"Fast\" : \"quickly\",\n",
    "    \"hundred\" : 100,\n",
    "    20 : \"twenty\",\n",
    "    \"marks\" : [25,35,100],\n",
    "    \"dictionary2\" : {\"rose\" : \"gulab\"},\n",
    "    \"languages\" : (\"english\",\"hindi\",\"marathi\")\n",
    "}\n",
    "\n",
    "print(b.keys()) # Prints the keys of the dictionary\n",
    "print(list(b.keys())) # Prints the keys of the dictionary as a list\n",
    "print(b.values()) # Prints the keys of the dictionary \n",
    "print(b.items()) # Prints the (key, value) for all contents of the dictionary \n"
   ]
  },
  {
   "cell_type": "code",
   "execution_count": 33,
   "id": "927bf65e",
   "metadata": {},
   "outputs": [
    {
     "name": "stdout",
     "output_type": "stream",
     "text": [
      "{'Fast': 'quickly', 'hundred': 100, 20: 'twenty', 'marks': [25, 35, 100], 'dictionary2': {'rose': 'gulab'}, 'languages': ('english', 'hindi', 'marathi')}\n",
      "{'Fast': 'quickly', 'hundred': 100, 20: 'twenty', 'marks': [25, 35, 100], 'dictionary2': {'rose': 'gulab'}, 'languages': ('english', 'hindi', 'marathi'), 'Lovish': 'Friend', 'Divya': 'Friend', 'Shubham': 'Friend', 'Kiaan': 'A Dancer'}\n"
     ]
    }
   ],
   "source": [
    "#Updating a dictionary or adding one dict to other\n",
    "\n",
    "b = {\n",
    "    \"Fast\" : \"quickly\",\n",
    "    \"hundred\" : 100,\n",
    "    20 : \"twenty\",\n",
    "    \"marks\" : [25,35,100],\n",
    "    \"dictionary2\" : {\"rose\" : \"gulab\"},\n",
    "    \"languages\" : (\"english\",\"hindi\",\"marathi\")\n",
    "}\n",
    "print(b)\n",
    "\n",
    "c = {\n",
    "    \"Lovish\": \"Friend\",\n",
    "    \"Divya\": \"Friend\",\n",
    "    \"Shubham\": \"Friend\",\n",
    "    \"Kiaan\": \"A Dancer\"\n",
    "}\n",
    "\n",
    "b.update(c) # Updates the dict b by adding key-value pairs from dict c\n",
    "print(b)"
   ]
  },
  {
   "cell_type": "code",
   "execution_count": 37,
   "id": "b2689426",
   "metadata": {},
   "outputs": [
    {
     "name": "stdout",
     "output_type": "stream",
     "text": [
      "A Dancer\n",
      "A Dancer\n"
     ]
    }
   ],
   "source": [
    "a = {'Fast': 'quickly',\n",
    "     'hundred': 100,\n",
    "     20: 'twenty',\n",
    "     'marks': [25, 35, 100],\n",
    "     'dictionary2': {'rose': 'gulab'},\n",
    "     'languages': ('english', 'hindi', 'marathi'),\n",
    "     'Lovish': 'Friend',\n",
    "     'Divya': 'Friend',\n",
    "     'Shubham': 'Friend',\n",
    "     'Kiaan': 'A Dancer'}\n",
    "\n",
    "print(a.get(\"Kiaan\")) # Prints value associated with key \"Kiaan\"\n",
    "print(a[\"Kiaan\"]) # Prints value associated with key \"Kiaan\"\n"
   ]
  },
  {
   "cell_type": "code",
   "execution_count": 44,
   "id": "662b31dc",
   "metadata": {},
   "outputs": [
    {
     "name": "stdout",
     "output_type": "stream",
     "text": [
      "None\n",
      "A Dancer\n"
     ]
    },
    {
     "ename": "KeyError",
     "evalue": "'Poplu'",
     "output_type": "error",
     "traceback": [
      "\u001b[1;31m---------------------------------------------------------------------------\u001b[0m",
      "\u001b[1;31mKeyError\u001b[0m                                  Traceback (most recent call last)",
      "\u001b[1;32m~\\AppData\\Local\\Temp/ipykernel_8140/3897175036.py\u001b[0m in \u001b[0;36m<module>\u001b[1;34m\u001b[0m\n\u001b[0;32m      2\u001b[0m \u001b[0mprint\u001b[0m\u001b[1;33m(\u001b[0m\u001b[0ma\u001b[0m\u001b[1;33m.\u001b[0m\u001b[0mget\u001b[0m\u001b[1;33m(\u001b[0m\u001b[1;34m\"Poplu\"\u001b[0m\u001b[1;33m)\u001b[0m\u001b[1;33m)\u001b[0m \u001b[1;31m# it will return None as Poplu is not present\u001b[0m\u001b[1;33m\u001b[0m\u001b[1;33m\u001b[0m\u001b[0m\n\u001b[0;32m      3\u001b[0m \u001b[0mprint\u001b[0m\u001b[1;33m(\u001b[0m\u001b[0ma\u001b[0m\u001b[1;33m.\u001b[0m\u001b[0mget\u001b[0m\u001b[1;33m(\u001b[0m\u001b[1;34m\"Kiaan\"\u001b[0m\u001b[1;33m)\u001b[0m\u001b[1;33m)\u001b[0m\u001b[1;33m\u001b[0m\u001b[1;33m\u001b[0m\u001b[0m\n\u001b[1;32m----> 4\u001b[1;33m \u001b[0mprint\u001b[0m\u001b[1;33m(\u001b[0m\u001b[0ma\u001b[0m\u001b[1;33m[\u001b[0m\u001b[1;34m\"Poplu\"\u001b[0m\u001b[1;33m]\u001b[0m\u001b[1;33m)\u001b[0m \u001b[1;31m# it will throw an error as Poplu is not present\u001b[0m\u001b[1;33m\u001b[0m\u001b[1;33m\u001b[0m\u001b[0m\n\u001b[0m",
      "\u001b[1;31mKeyError\u001b[0m: 'Poplu'"
     ]
    }
   ],
   "source": [
    "# The difference between .get and [] sytax in Dictionaries?\n",
    "\n",
    "print(a.get(\"Poplu\")) # it will return None as Poplu is not present\n",
    "print(a.get(\"Kiaan\"))\n",
    "print(a[\"Poplu\"]) # it will throw an error as Poplu is not present"
   ]
  },
  {
   "cell_type": "code",
   "execution_count": 46,
   "id": "2579d727",
   "metadata": {},
   "outputs": [
    {
     "name": "stdout",
     "output_type": "stream",
     "text": [
      "<class 'set'>\n",
      "{1, 3, 4, 5}\n"
     ]
    }
   ],
   "source": [
    "# SETS IN PYTHON\n",
    "\n",
    "s = {1, 3, 4, 5, 1}\n",
    "print(type(s))\n",
    "print(s)"
   ]
  },
  {
   "cell_type": "code",
   "execution_count": 47,
   "id": "313461cc",
   "metadata": {},
   "outputs": [
    {
     "name": "stdout",
     "output_type": "stream",
     "text": [
      "<class 'dict'>\n",
      "<class 'set'>\n"
     ]
    }
   ],
   "source": [
    "#EMPTY SET\n",
    "\n",
    "# Important: This syntax will create an empty dictionary and not an empty set\n",
    "a = {}\n",
    "print(type(a))\n",
    "\n",
    "# An empty set can be created using the below syntax:\n",
    "b = set()\n",
    "print(type(b))"
   ]
  },
  {
   "cell_type": "code",
   "execution_count": 65,
   "id": "e0a60541",
   "metadata": {},
   "outputs": [
    {
     "name": "stdout",
     "output_type": "stream",
     "text": [
      "<class 'set'>\n",
      "<class 'tuple'>\n",
      "{('Shahin', 'Samaira', 'Nasaruddin', 786, 55.5), None, 'Sohail', 500, 'Hina'}\n"
     ]
    }
   ],
   "source": [
    "#SET METHODS\n",
    "\n",
    "s = set()\n",
    "\n",
    "print(type(s))\n",
    "s.add(\"Sohail\")\n",
    "s.add(\"Hina\")\n",
    "s.add(500)\n",
    "s.add(None)\n",
    "s.add(\"Hina\") # Adding a value repeatedly does not changes a set\n",
    "\n",
    "family = (\"Shahin\",\"Samaira\",\"Nasaruddin\",786,55.5)\n",
    "s.add(family) #adding tuple to set\n",
    "\n",
    "print(type(family))\n",
    "print(s)"
   ]
  },
  {
   "cell_type": "code",
   "execution_count": 72,
   "id": "9b789750",
   "metadata": {},
   "outputs": [
    {
     "ename": "TypeError",
     "evalue": "unhashable type: 'list'",
     "output_type": "error",
     "traceback": [
      "\u001b[1;31m---------------------------------------------------------------------------\u001b[0m",
      "\u001b[1;31mTypeError\u001b[0m                                 Traceback (most recent call last)",
      "\u001b[1;32m~\\AppData\\Local\\Temp/ipykernel_8140/1557001937.py\u001b[0m in \u001b[0;36m<module>\u001b[1;34m\u001b[0m\n\u001b[0;32m      1\u001b[0m \u001b[0mfamily\u001b[0m \u001b[1;33m=\u001b[0m \u001b[1;33m{\u001b[0m\u001b[1;34m\"Shahin\"\u001b[0m\u001b[1;33m,\u001b[0m\u001b[1;34m\"Samaira\"\u001b[0m\u001b[1;33m,\u001b[0m\u001b[1;34m\"Nasaruddin\"\u001b[0m\u001b[1;33m}\u001b[0m\u001b[1;33m\u001b[0m\u001b[1;33m\u001b[0m\u001b[0m\n\u001b[0;32m      2\u001b[0m \u001b[1;31m# family.add({\"rose\":\"gulab\"})\u001b[0m\u001b[1;33m\u001b[0m\u001b[1;33m\u001b[0m\u001b[0m\n\u001b[1;32m----> 3\u001b[1;33m \u001b[0mfamily\u001b[0m\u001b[1;33m.\u001b[0m\u001b[0madd\u001b[0m\u001b[1;33m(\u001b[0m\u001b[1;33m[\u001b[0m\u001b[1;36m100\u001b[0m\u001b[1;33m,\u001b[0m\u001b[1;36m50\u001b[0m\u001b[1;33m]\u001b[0m\u001b[1;33m)\u001b[0m\u001b[1;33m\u001b[0m\u001b[1;33m\u001b[0m\u001b[0m\n\u001b[0m\u001b[0;32m      4\u001b[0m \u001b[0mprint\u001b[0m\u001b[1;33m(\u001b[0m\u001b[0mfamily\u001b[0m\u001b[1;33m)\u001b[0m\u001b[1;33m\u001b[0m\u001b[1;33m\u001b[0m\u001b[0m\n",
      "\u001b[1;31mTypeError\u001b[0m: unhashable type: 'list'"
     ]
    }
   ],
   "source": [
    "#DICTIONARY CANNOT BE ADDED TO A SET\n",
    "\n",
    "family = {\"Shahin\",\"Samaira\",\"Nasaruddin\"}\n",
    "family.add({\"rose\":\"gulab\"})\n",
    "\n",
    "print(family)"
   ]
  },
  {
   "cell_type": "code",
   "execution_count": 73,
   "id": "af7184cb",
   "metadata": {},
   "outputs": [
    {
     "ename": "TypeError",
     "evalue": "unhashable type: 'list'",
     "output_type": "error",
     "traceback": [
      "\u001b[1;31m---------------------------------------------------------------------------\u001b[0m",
      "\u001b[1;31mTypeError\u001b[0m                                 Traceback (most recent call last)",
      "\u001b[1;32m~\\AppData\\Local\\Temp/ipykernel_8140/3263697178.py\u001b[0m in \u001b[0;36m<module>\u001b[1;34m\u001b[0m\n\u001b[0;32m      1\u001b[0m \u001b[0mfamily\u001b[0m \u001b[1;33m=\u001b[0m \u001b[1;33m{\u001b[0m\u001b[1;34m\"Shahin\"\u001b[0m\u001b[1;33m,\u001b[0m\u001b[1;34m\"Samaira\"\u001b[0m\u001b[1;33m,\u001b[0m\u001b[1;34m\"Nasaruddin\"\u001b[0m\u001b[1;33m}\u001b[0m\u001b[1;33m\u001b[0m\u001b[1;33m\u001b[0m\u001b[0m\n\u001b[1;32m----> 2\u001b[1;33m \u001b[0mfamily\u001b[0m\u001b[1;33m.\u001b[0m\u001b[0madd\u001b[0m\u001b[1;33m(\u001b[0m\u001b[1;33m[\u001b[0m\u001b[1;36m100\u001b[0m\u001b[1;33m,\u001b[0m\u001b[1;36m50\u001b[0m\u001b[1;33m]\u001b[0m\u001b[1;33m)\u001b[0m\u001b[1;33m\u001b[0m\u001b[1;33m\u001b[0m\u001b[0m\n\u001b[0m\u001b[0;32m      3\u001b[0m \u001b[0mprint\u001b[0m\u001b[1;33m(\u001b[0m\u001b[0mfamily\u001b[0m\u001b[1;33m)\u001b[0m\u001b[1;33m\u001b[0m\u001b[1;33m\u001b[0m\u001b[0m\n",
      "\u001b[1;31mTypeError\u001b[0m: unhashable type: 'list'"
     ]
    }
   ],
   "source": [
    "#LIST CANNOT BE ADDED TO A SET\n",
    "\n",
    "family = {\"Shahin\",\"Samaira\",\"Nasaruddin\"}\n",
    "family.add([100,50])\n",
    "print(family)"
   ]
  },
  {
   "cell_type": "code",
   "execution_count": 74,
   "id": "e1faf2c5",
   "metadata": {},
   "outputs": [
    {
     "ename": "TypeError",
     "evalue": "unhashable type: 'set'",
     "output_type": "error",
     "traceback": [
      "\u001b[1;31m---------------------------------------------------------------------------\u001b[0m",
      "\u001b[1;31mTypeError\u001b[0m                                 Traceback (most recent call last)",
      "\u001b[1;32m~\\AppData\\Local\\Temp/ipykernel_8140/1971729519.py\u001b[0m in \u001b[0;36m<module>\u001b[1;34m\u001b[0m\n\u001b[0;32m      1\u001b[0m \u001b[0mfamily\u001b[0m \u001b[1;33m=\u001b[0m \u001b[1;33m{\u001b[0m\u001b[1;34m\"Shahin\"\u001b[0m\u001b[1;33m,\u001b[0m\u001b[1;34m\"Samaira\"\u001b[0m\u001b[1;33m,\u001b[0m\u001b[1;34m\"Nasaruddin\"\u001b[0m\u001b[1;33m}\u001b[0m\u001b[1;33m\u001b[0m\u001b[1;33m\u001b[0m\u001b[0m\n\u001b[1;32m----> 2\u001b[1;33m \u001b[0mfamily\u001b[0m\u001b[1;33m.\u001b[0m\u001b[0madd\u001b[0m\u001b[1;33m(\u001b[0m\u001b[1;33m{\u001b[0m\u001b[1;34m\"Wahid\"\u001b[0m\u001b[1;33m,\u001b[0m\u001b[1;34m\"Khala\"\u001b[0m\u001b[1;33m}\u001b[0m\u001b[1;33m)\u001b[0m\u001b[1;33m\u001b[0m\u001b[1;33m\u001b[0m\u001b[0m\n\u001b[0m\u001b[0;32m      3\u001b[0m \u001b[0mprint\u001b[0m\u001b[1;33m(\u001b[0m\u001b[0mfamily\u001b[0m\u001b[1;33m)\u001b[0m\u001b[1;33m\u001b[0m\u001b[1;33m\u001b[0m\u001b[0m\n",
      "\u001b[1;31mTypeError\u001b[0m: unhashable type: 'set'"
     ]
    }
   ],
   "source": [
    "#DIFFERENT SET CANNOT BE ADDED TO A SET\n",
    "\n",
    "family = {\"Shahin\",\"Samaira\",\"Nasaruddin\"}\n",
    "family.add({\"Wahid\",\"Khala\"})\n",
    "print(family)"
   ]
  },
  {
   "cell_type": "code",
   "execution_count": 77,
   "id": "7b28d613",
   "metadata": {},
   "outputs": [
    {
     "name": "stdout",
     "output_type": "stream",
     "text": [
      "4\n",
      "{'Shahin', 'Samaira', 'Nasaruddin'}\n"
     ]
    }
   ],
   "source": [
    "f = {\"Shahin\",\"Samaira\",\"Nasaruddin\",\"Jamil\"}\n",
    "print(len(f))   #Prints the length of set\n",
    "f.remove(\"Jamil\") #Removes an element from set\n",
    "print(f)"
   ]
  },
  {
   "cell_type": "code",
   "execution_count": 90,
   "id": "8280dfab",
   "metadata": {},
   "outputs": [
    {
     "name": "stdout",
     "output_type": "stream",
     "text": [
      "{'Sohail', 'Samaira', 'Nasaruddin'}\n"
     ]
    }
   ],
   "source": [
    "f = {\"Sohail\",\"Shahin\",\"Samaira\",\"Nasaruddin\"}\n",
    "f.pop() #it will remove the random element of the set\n",
    "print(f)"
   ]
  },
  {
   "cell_type": "code",
   "execution_count": 96,
   "id": "b7862d0a",
   "metadata": {},
   "outputs": [
    {
     "name": "stdout",
     "output_type": "stream",
     "text": [
      "Enter a num whose spelling you need: 6\n",
      "Spelling of 6 is  SIX\n"
     ]
    }
   ],
   "source": [
    "#PRACTICE 01\n",
    "\n",
    "numSpell = {1:\"ONE\",\n",
    "           2:\"TWO\",\n",
    "           3:\"THREE\",\n",
    "           4:\"FOUR\",\n",
    "           5:\"FIVE\",\n",
    "           6:\"SIX\",\n",
    "           7:\"SEVEN\",\n",
    "           8:\"EIGHT\",\n",
    "           9:\"NINE\",\n",
    "           10:\"TEN\"}\n",
    "n = int(input(\"Enter a num whose spelling you need: \"))\n",
    "print(f\"Spelling of {n} is \",numSpell.get(n))\n",
    "# print(f\"Spelling of {n} is \",numSpell[n]) \n",
    "# Above code will throw an error if the number entered is not present"
   ]
  },
  {
   "cell_type": "code",
   "execution_count": 99,
   "id": "357a4115",
   "metadata": {},
   "outputs": [
    {
     "name": "stdout",
     "output_type": "stream",
     "text": [
      "Enter number 1 = 1\n",
      "Enter number 2 = 2\n",
      "Enter number 3 = 3\n",
      "Enter number 4 = 4\n",
      "Enter number 5 = 5\n",
      "Enter number 6 = 6\n",
      "Enter number 7 = 7\n",
      "Enter number 8 = 8\n",
      "Enter number 9 = 9\n",
      "{1, 2, 3, 4, 5, 6, 7, 8, 9}\n"
     ]
    }
   ],
   "source": [
    "#PRACTICE 2\n",
    "n1 = int(input(\"Enter number 1 = \"))\n",
    "n2 = int(input(\"Enter number 2 = \"))\n",
    "n3 = int(input(\"Enter number 3 = \"))\n",
    "n4 = int(input(\"Enter number 4 = \"))\n",
    "n5 = int(input(\"Enter number 5 = \"))\n",
    "n6 = int(input(\"Enter number 6 = \"))\n",
    "n7 = int(input(\"Enter number 7 = \"))\n",
    "n8 = int(input(\"Enter number 8 = \"))\n",
    "n9 = int(input(\"Enter number 9 = \"))\n",
    "s = {n1,n2,n3,n4,n5,n6,n7,n8,n9}\n",
    "\n",
    "print(s)"
   ]
  },
  {
   "cell_type": "code",
   "execution_count": 100,
   "id": "1bec1d6b",
   "metadata": {},
   "outputs": [
    {
     "name": "stdout",
     "output_type": "stream",
     "text": [
      "{18, 18.1, '18'}\n"
     ]
    }
   ],
   "source": [
    "#Practice 3\n",
    "\n",
    "s = {18, \"18\", 18.1}\n",
    "print(s)"
   ]
  },
  {
   "cell_type": "code",
   "execution_count": 101,
   "id": "496ee4ad",
   "metadata": {},
   "outputs": [
    {
     "name": "stdout",
     "output_type": "stream",
     "text": [
      "{20, '20'}\n",
      "2\n"
     ]
    }
   ],
   "source": [
    "#Practice 4\n",
    "\n",
    "s = {20, 20.0, \"20\"}\n",
    "print(s)\n",
    "print(len(s)) \n",
    "\n",
    "# It will consider 20.0 and 20 as same and hence will not repeat"
   ]
  },
  {
   "cell_type": "code",
   "execution_count": 3,
   "id": "eca57f92",
   "metadata": {},
   "outputs": [
    {
     "name": "stdout",
     "output_type": "stream",
     "text": [
      "Enter fav lang a: C++\n",
      "Enter fav lang b: Python\n",
      "Enter fav lang c: JavaScript\n",
      "Enter fav lang d: Tableu\n",
      "{'Member a': 'C++', 'Member b': 'Python', 'Member c': 'JavaScript', 'Member d': 'Tableu'}\n"
     ]
    }
   ],
   "source": [
    "#Practice 5\n",
    "\n",
    "favLang = {}\n",
    "\n",
    "a = input(\"Enter fav lang a: \")\n",
    "b = input(\"Enter fav lang b: \")\n",
    "c = input(\"Enter fav lang c: \")\n",
    "d = input(\"Enter fav lang d: \")\n",
    "\n",
    "favLang[\"Member a\"] = a\n",
    "favLang[\"Member b\"] = b\n",
    "favLang[\"Member c\"] = c\n",
    "favLang[\"Member d\"] = d\n",
    "\n",
    "print(favLang)\n"
   ]
  },
  {
   "cell_type": "code",
   "execution_count": null,
   "id": "1f4feaf9",
   "metadata": {},
   "outputs": [],
   "source": []
  }
 ],
 "metadata": {
  "kernelspec": {
   "display_name": "Python 3 (ipykernel)",
   "language": "python",
   "name": "python3"
  },
  "language_info": {
   "codemirror_mode": {
    "name": "ipython",
    "version": 3
   },
   "file_extension": ".py",
   "mimetype": "text/x-python",
   "name": "python",
   "nbconvert_exporter": "python",
   "pygments_lexer": "ipython3",
   "version": "3.9.7"
  }
 },
 "nbformat": 4,
 "nbformat_minor": 5
}
