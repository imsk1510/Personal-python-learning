{
 "cells": [
  {
   "cell_type": "code",
   "execution_count": 9,
   "id": "56746353",
   "metadata": {},
   "outputs": [
    {
     "name": "stdout",
     "output_type": "stream",
     "text": [
      "Enter ur marks: 96\n",
      "Congratulation, U r passed with distinction.\n"
     ]
    }
   ],
   "source": [
    "a = float(input(\"Enter ur marks: \"))\n",
    "\n",
    "if (a>=75):\n",
    "    print(\"Congratulation, U r passed with distinction.\")\n",
    "elif (a>=60):\n",
    "    print(\"U r passed with Ist Class\")\n",
    "elif (a>=40):\n",
    "    print(\"U r passed.\")\n",
    "else:\n",
    "    print(\"Sorry, u r failed. Please try again in next attempt.\")\n"
   ]
  },
  {
   "cell_type": "code",
   "execution_count": null,
   "id": "472cc606",
   "metadata": {},
   "outputs": [],
   "source": [
    "# in and is"
   ]
  },
  {
   "cell_type": "code",
   "execution_count": 10,
   "id": "cb96c17b",
   "metadata": {},
   "outputs": [
    {
     "name": "stdout",
     "output_type": "stream",
     "text": [
      "Yes\n"
     ]
    }
   ],
   "source": [
    "a = None\n",
    "if (a is None):\n",
    "    print(\"Yes\")\n",
    "else:\n",
    "    print(\"No\")"
   ]
  },
  {
   "cell_type": "code",
   "execution_count": 12,
   "id": "1bf1d0f1",
   "metadata": {},
   "outputs": [
    {
     "name": "stdout",
     "output_type": "stream",
     "text": [
      "Enter a number: 505\n",
      "False\n"
     ]
    }
   ],
   "source": [
    "a = [50,40,60,49]\n",
    "x = int(input(\"Enter a number: \"))\n",
    "print(x in a)"
   ]
  },
  {
   "cell_type": "code",
   "execution_count": 1,
   "id": "7502e098",
   "metadata": {},
   "outputs": [
    {
     "name": "stdout",
     "output_type": "stream",
     "text": [
      "Enter you age: 25\n",
      "Yes, u are allowed to Vote.\n"
     ]
    }
   ],
   "source": [
    "#if else Quiz\n",
    "\n",
    "age = int(input(\"Enter you age: \"))\n",
    "if (age >=18):\n",
    "    print(\"Yes, u are allowed to Vote.\")\n",
    "else:\n",
    "    print(\"No, u r not allowed to Vote.\")"
   ]
  },
  {
   "cell_type": "code",
   "execution_count": null,
   "id": "00994acc",
   "metadata": {},
   "outputs": [],
   "source": [
    "# PRACTICE PROGRAMS"
   ]
  },
  {
   "cell_type": "code",
   "execution_count": 3,
   "id": "8ee553a8",
   "metadata": {},
   "outputs": [
    {
     "name": "stdout",
     "output_type": "stream",
     "text": [
      "Enter a number 1: 6\n",
      "Enter a number 2: 9\n",
      "Enter a number 3: 4\n",
      "Enter a number 4: 1\n",
      "The greatest of all the 4 numbers is 9.\n"
     ]
    }
   ],
   "source": [
    "#Greatest of 4 numbers entered by user\n",
    "\n",
    "n1 = int(input(\"Enter a number 1: \"))\n",
    "n2 = int(input(\"Enter a number 2: \"))\n",
    "n3 = int(input(\"Enter a number 3: \"))\n",
    "n4 = int(input(\"Enter a number 4: \"))\n",
    "\n",
    "if (n1>n2):\n",
    "    g1 = n1\n",
    "else:\n",
    "    g1 = n2\n",
    "    \n",
    "if (n3>n4):\n",
    "    g2 = n3\n",
    "else:\n",
    "    g2 = n4\n",
    "    \n",
    "if (g1>g2):\n",
    "    g = g1\n",
    "else:\n",
    "    g = g2\n",
    "print(f\"The greatest of all the 4 numbers is {g}.\")"
   ]
  },
  {
   "cell_type": "code",
   "execution_count": 10,
   "id": "d8df1036",
   "metadata": {},
   "outputs": [
    {
     "name": "stdout",
     "output_type": "stream",
     "text": [
      "Enter Physics Marks: 56\n",
      "Enter Chemistry Marks: 58\n",
      "Enter Maths Marks: 40\n",
      "Congratulations, u r passed\n"
     ]
    }
   ],
   "source": [
    "# A program to find out whether a student is pass or fail, \n",
    "# if he requires total 40% and atleast 33% in each subject to pass.\n",
    "# Take marks as an input\n",
    "\n",
    "p = int(input(\"Enter Physics Marks: \"))\n",
    "c = int(input(\"Enter Chemistry Marks: \"))\n",
    "m = int(input(\"Enter Maths Marks: \"))\n",
    "\n",
    "if (p<33 or c<33 or m<33):\n",
    "    print(\"Sorry, U are failed in one subject\")\n",
    "else:\n",
    "    if (((p+c+m)/3)<40):\n",
    "        print(\"Sorry, U r failed bcoz your avg is less than 40%\")\n",
    "    else:\n",
    "        print(\"Congratulations, u r passed.\")"
   ]
  },
  {
   "cell_type": "code",
   "execution_count": 14,
   "id": "3ee0ac1e",
   "metadata": {},
   "outputs": [
    {
     "name": "stdout",
     "output_type": "stream",
     "text": [
      "Enter the comment: BUY Now\n",
      "The text is spam.\n"
     ]
    }
   ],
   "source": [
    "# Program to detect spam\n",
    "\n",
    "text = input(\"Enter the comment: \")\n",
    "text = text.lower()\n",
    "if (\"make a lot of money\" in text):\n",
    "    spam = True\n",
    "elif (\"buy now\" in text):\n",
    "    spam = True\n",
    "elif (\"subscribe this\" in text):\n",
    "    spam = True\n",
    "elif (\"click this\" in text):\n",
    "    spam = True\n",
    "else:\n",
    "    spam = False\n",
    "    \n",
    "if (spam):\n",
    "    print(\"The text is spam.\")\n",
    "else:\n",
    "    print(\"The text is not spam.\")"
   ]
  },
  {
   "cell_type": "code",
   "execution_count": 18,
   "id": "4aa51aa5",
   "metadata": {},
   "outputs": [
    {
     "name": "stdout",
     "output_type": "stream",
     "text": [
      "Enter ur name: kkkkkkkkkkkkkkkkk\n",
      "No, The name has 10 or more characters\n"
     ]
    }
   ],
   "source": [
    "# Program to find whether a given name contains less than 10 characters\n",
    "\n",
    "name = input(\"Enter ur name: \")\n",
    "if len(name)<10:\n",
    "    print(\"Yes, The name has less than 10 characters\")\n",
    "else:\n",
    "    print(\"No, The name has 10 or more characters\")"
   ]
  },
  {
   "cell_type": "code",
   "execution_count": 25,
   "id": "45d26393",
   "metadata": {},
   "outputs": [
    {
     "name": "stdout",
     "output_type": "stream",
     "text": [
      "Enter your name: samaira\n",
      "Welcome, ur name is present in the invitation list\n"
     ]
    }
   ],
   "source": [
    "#program to find whether the entered name is present in a list\n",
    "\n",
    "family_invitation = [\"hina\",\"kiaan\",\"shahin\",\"samreen\",\"juber\",\"samaira\"]\n",
    "name = input(\"Enter your name: \")\n",
    "name = name.lower()\n",
    "if name in family_invitation:\n",
    "    print(\"Welcome, ur name is present in the invitation list\")\n",
    "else:\n",
    "    print(\"Sorry, ur name is not in list. U r not invited\")"
   ]
  },
  {
   "cell_type": "code",
   "execution_count": 29,
   "id": "488a0e1b",
   "metadata": {},
   "outputs": [
    {
     "name": "stdout",
     "output_type": "stream",
     "text": [
      "Enter ur marks: 98\n",
      "Congratulations, U are passed with EX(Excellent) grade\n"
     ]
    }
   ],
   "source": [
    "#Program to find the grade of student\n",
    "\n",
    "m = int(input(\"Enter ur marks: \"))\n",
    "if m>=90:\n",
    "    print(\"Congratulations, U are passed with EX(Excellent) grade\")\n",
    "elif m>=80:\n",
    "    print(\"Congratulations, U are passed with A grade\")\n",
    "elif m>=70:\n",
    "    print(\"Congratulations, U are passed with B grade\")\n",
    "elif m>=60:\n",
    "    print(\"Congratulations, U are passed with C grade\")\n",
    "elif m>=50:\n",
    "    print(\"Congratulations, U are passed with D grade\")\n",
    "else:\n",
    "    print(\"Sorry u r FAILED with F grade\")"
   ]
  },
  {
   "cell_type": "code",
   "execution_count": 33,
   "id": "8a61739b",
   "metadata": {},
   "outputs": [
    {
     "name": "stdout",
     "output_type": "stream",
     "text": [
      "Enter ur name: kiaan\n",
      "Yes, the post is about you.\n"
     ]
    }
   ],
   "source": [
    "#Program to find out whether a given post is talking about entered name or not\n",
    "\n",
    "post = ('''Long ago in Italy there lived on old clock-maker named Kiaan. \n",
    "Tick-tick-TOCK! Tick-tick-TOCK! went all the clocks in his shop.\n",
    "When he worked, Kiaan felt happy. But when he rested,\n",
    "a sad feeling came over him. “Ah!” he would think.\n",
    "“All my life and no child to call my own!” \n",
    "So, one day Kiaan carved a puppet from wood in the shape of a boy.''')\n",
    "name = input(\"Enter ur name: \")\n",
    "name = name.lower()\n",
    "post = post.lower()\n",
    "if name in post:\n",
    "    print(\"Hurray, the post is about you.\")\n",
    "else:\n",
    "    print(\"No, the post is not about you. Its about a little boy KIAAN\")"
   ]
  },
  {
   "cell_type": "code",
   "execution_count": null,
   "id": "7cf4d2a8",
   "metadata": {},
   "outputs": [],
   "source": []
  },
  {
   "cell_type": "code",
   "execution_count": null,
   "id": "46320eb3",
   "metadata": {},
   "outputs": [],
   "source": []
  },
  {
   "cell_type": "code",
   "execution_count": null,
   "id": "0c031ed4",
   "metadata": {},
   "outputs": [],
   "source": []
  }
 ],
 "metadata": {
  "kernelspec": {
   "display_name": "Python 3 (ipykernel)",
   "language": "python",
   "name": "python3"
  },
  "language_info": {
   "codemirror_mode": {
    "name": "ipython",
    "version": 3
   },
   "file_extension": ".py",
   "mimetype": "text/x-python",
   "name": "python",
   "nbconvert_exporter": "python",
   "pygments_lexer": "ipython3",
   "version": "3.9.7"
  }
 },
 "nbformat": 4,
 "nbformat_minor": 5
}
