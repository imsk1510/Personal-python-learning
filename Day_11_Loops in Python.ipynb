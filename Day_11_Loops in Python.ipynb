{
 "cells": [
  {
   "cell_type": "code",
   "execution_count": null,
   "id": "7181b44f",
   "metadata": {},
   "outputs": [],
   "source": [
    "# While Loop"
   ]
  },
  {
   "cell_type": "code",
   "execution_count": 6,
   "id": "9a44789f",
   "metadata": {},
   "outputs": [
    {
     "name": "stdout",
     "output_type": "stream",
     "text": [
      "Golmaal 1\n",
      "Golmaal 2\n",
      "Golmaal 3\n",
      "Golmaal 4\n",
      "Golmaal 5\n",
      "Golmaal 6\n",
      "Golmaal 7\n",
      "Golmaal 8\n",
      "Golmaal 9\n",
      "Golmaal 10\n",
      "DONE\n"
     ]
    }
   ],
   "source": [
    "i = 1\n",
    "while (i<=10):\n",
    "    print(\"Golmaal\", i)\n",
    "    i = i+1\n",
    "print(\"DONE\")"
   ]
  },
  {
   "cell_type": "code",
   "execution_count": 9,
   "id": "e9ad8e62",
   "metadata": {},
   "outputs": [
    {
     "name": "stdout",
     "output_type": "stream",
     "text": [
      "1\n",
      "2\n",
      "3\n",
      "4\n",
      "5\n",
      "6\n",
      "7\n",
      "8\n",
      "9\n",
      "10\n",
      "11\n",
      "12\n",
      "13\n",
      "14\n",
      "15\n",
      "16\n",
      "17\n",
      "18\n",
      "19\n",
      "20\n",
      "21\n",
      "22\n",
      "23\n",
      "24\n",
      "25\n",
      "26\n",
      "27\n",
      "28\n",
      "29\n",
      "30\n",
      "31\n",
      "32\n",
      "33\n",
      "34\n",
      "35\n",
      "36\n",
      "37\n",
      "38\n",
      "39\n",
      "40\n",
      "41\n",
      "42\n",
      "43\n",
      "44\n",
      "45\n",
      "46\n",
      "47\n",
      "48\n",
      "49\n",
      "50\n",
      "DONE\n"
     ]
    }
   ],
   "source": [
    "# A program to write 1 to 50 using while loop\n",
    "\n",
    "i = 1\n",
    "while (i<=50):\n",
    "    print(i)\n",
    "    i = i+1\n",
    "    \n",
    "print(\"DONE\")"
   ]
  },
  {
   "cell_type": "code",
   "execution_count": 11,
   "id": "7a21bd79",
   "metadata": {},
   "outputs": [
    {
     "name": "stdout",
     "output_type": "stream",
     "text": [
      "banana\n",
      "apple\n",
      "mango\n",
      "chickoo\n",
      "lichi\n",
      "papaya\n"
     ]
    }
   ],
   "source": [
    "# Prog to print content of the list using while loop\n",
    "\n",
    "f = [\"banana\",\"apple\",\"mango\",\"chickoo\",\"lichi\",\"papaya\"]\n",
    "i=0\n",
    "while (i<len(f)):\n",
    "    print(f[i])\n",
    "    i = i+1"
   ]
  },
  {
   "cell_type": "code",
   "execution_count": 20,
   "id": "0aca6d8c",
   "metadata": {},
   "outputs": [
    {
     "name": "stdout",
     "output_type": "stream",
     "text": [
      "banana\n",
      "\n",
      "\n",
      "apple\n",
      "\n",
      "\n",
      "mango\n",
      "\n",
      "\n",
      "chickoo\n",
      "\n",
      "\n",
      "lichi\n",
      "\n",
      "\n",
      "papaya\n",
      "\n",
      "\n"
     ]
    }
   ],
   "source": [
    "# Prog to print content of the list using for loop\n",
    "\n",
    "f = [\"banana\",\"apple\",\"mango\",\"chickoo\",\"lichi\",\"papaya\"]\n",
    "for x in f:\n",
    "    print(x)\n",
    "    print(\"\\n\")"
   ]
  },
  {
   "cell_type": "code",
   "execution_count": null,
   "id": "59374295",
   "metadata": {},
   "outputs": [],
   "source": [
    "#Range function in Python\n"
   ]
  },
  {
   "cell_type": "code",
   "execution_count": 21,
   "id": "b57af22a",
   "metadata": {},
   "outputs": [
    {
     "name": "stdout",
     "output_type": "stream",
     "text": [
      "0\n",
      "1\n",
      "2\n",
      "3\n",
      "4\n",
      "5\n",
      "6\n",
      "7\n"
     ]
    }
   ],
   "source": [
    "for i in range(8):\n",
    "    print(i)"
   ]
  },
  {
   "cell_type": "code",
   "execution_count": 22,
   "id": "fefc38a5",
   "metadata": {},
   "outputs": [
    {
     "name": "stdout",
     "output_type": "stream",
     "text": [
      "1\n",
      "2\n",
      "3\n",
      "4\n",
      "5\n",
      "6\n",
      "7\n"
     ]
    }
   ],
   "source": [
    "for i in range(1,8):\n",
    "    print(i)"
   ]
  },
  {
   "cell_type": "code",
   "execution_count": 23,
   "id": "2ecdc81d",
   "metadata": {},
   "outputs": [
    {
     "name": "stdout",
     "output_type": "stream",
     "text": [
      "1\n",
      "3\n",
      "5\n",
      "7\n",
      "9\n"
     ]
    }
   ],
   "source": [
    "for i in range(1,10,2):\n",
    "    print(i)"
   ]
  },
  {
   "cell_type": "code",
   "execution_count": 24,
   "id": "a18c545b",
   "metadata": {},
   "outputs": [
    {
     "data": {
      "text/plain": [
       "-3"
      ]
     },
     "execution_count": 24,
     "metadata": {},
     "output_type": "execute_result"
    }
   ],
   "source": [
    "-8//3"
   ]
  },
  {
   "cell_type": "code",
   "execution_count": 2,
   "id": "1bd27d76",
   "metadata": {},
   "outputs": [
    {
     "name": "stdout",
     "output_type": "stream",
     "text": [
      "1\n",
      "2\n",
      "3\n",
      "4\n",
      "5\n",
      "Done\n"
     ]
    }
   ],
   "source": [
    "#for with else\n",
    "\n",
    "for x in range(1,6):\n",
    "    print(x)\n",
    "else:\n",
    "    print(\"Done\")"
   ]
  },
  {
   "cell_type": "code",
   "execution_count": null,
   "id": "df6d1cb0",
   "metadata": {},
   "outputs": [],
   "source": [
    "for i in range(1, 10):\n",
    "    print(i)\n",
    "    if i==5:\n",
    "        break\n",
    "else:\n",
    "    print(\"Done\") #it will not be executed"
   ]
  },
  {
   "cell_type": "code",
   "execution_count": null,
   "id": "6d9b010c",
   "metadata": {},
   "outputs": [],
   "source": []
  },
  {
   "cell_type": "code",
   "execution_count": 5,
   "id": "64cd659f",
   "metadata": {},
   "outputs": [
    {
     "name": "stdout",
     "output_type": "stream",
     "text": [
      "1\n",
      "2\n",
      "3\n",
      "4\n",
      "5\n"
     ]
    }
   ],
   "source": [
    "# break\n",
    "\n",
    "for i in range(1, 10):\n",
    "    print(i)\n",
    "    if i==5:\n",
    "        break\n",
    "else:\n",
    "    print(\"Done\") #it will not be executed if break is applied in between"
   ]
  },
  {
   "cell_type": "code",
   "execution_count": 6,
   "id": "e37e4bac",
   "metadata": {},
   "outputs": [
    {
     "name": "stdout",
     "output_type": "stream",
     "text": [
      "1\n",
      "2\n",
      "3\n",
      "4\n",
      "6\n",
      "7\n",
      "8\n",
      "9\n",
      "Done\n"
     ]
    }
   ],
   "source": [
    "#continue\n",
    "\n",
    "for i in range(1, 10):\n",
    "    if i==5:        # i==5  will not be executed for only this\n",
    "        continue\n",
    "    print(i)\n",
    "else:\n",
    "    print(\"Done\") "
   ]
  },
  {
   "cell_type": "code",
   "execution_count": 11,
   "id": "7cce567a",
   "metadata": {},
   "outputs": [
    {
     "name": "stdout",
     "output_type": "stream",
     "text": [
      "Enter a number: 8\n",
      "8 x 1 =  8\n",
      "8 x 2 =  16\n",
      "8 x 3 =  24\n",
      "8 x 4 =  32\n",
      "8 x 5 =  40\n",
      "8 x 6 =  48\n",
      "8 x 7 =  56\n",
      "8 x 8 =  64\n",
      "8 x 9 =  72\n",
      "8 x 10 =  80\n",
      "Done\n"
     ]
    }
   ],
   "source": [
    "#A program to write a multiplication table of a given number using for loop\n",
    "\n",
    "n = int(input(\"Enter a number: \"))\n",
    "for i in range(1,11):\n",
    "    print (f\"{n} x {i} = \",n*i)\n",
    "else:\n",
    "    print(\"Done\")"
   ]
  },
  {
   "cell_type": "code",
   "execution_count": 20,
   "id": "f093bceb",
   "metadata": {},
   "outputs": [
    {
     "name": "stdout",
     "output_type": "stream",
     "text": [
      "Hello and welcome, Sohail\n",
      "Hello and welcome, Samaira\n",
      "Hello and welcome, Shahin\n"
     ]
    }
   ],
   "source": [
    "# Program to greet all the persons stored in a list whose name start with s\n",
    "\n",
    "l = [\"Sohail\",\"Samaira\",\"Shahin\",\"Kiaan\",\"Hina\"]\n",
    "\n",
    "for name in l:\n",
    "    nameL = name.lower()\n",
    "    if nameL.startswith(\"s\"):\n",
    "        print(\"Hello and welcome,\",name)"
   ]
  },
  {
   "cell_type": "code",
   "execution_count": 22,
   "id": "b9c92d03",
   "metadata": {},
   "outputs": [
    {
     "name": "stdout",
     "output_type": "stream",
     "text": [
      "Enter a number: 5\n",
      "5 X 1 =  5\n",
      "5 X 2 =  10\n",
      "5 X 3 =  15\n",
      "5 X 4 =  20\n",
      "5 X 5 =  25\n",
      "5 X 6 =  30\n",
      "5 X 7 =  35\n",
      "5 X 8 =  40\n",
      "5 X 9 =  45\n",
      "5 X 10 =  50\n",
      "DONE\n"
     ]
    }
   ],
   "source": [
    "#A program to write a multiplication table of a given number using WHILE loop\n",
    "\n",
    "n = int(input(\"Enter a number: \"))\n",
    "i = 1\n",
    "while (i<=10):\n",
    "    print(f\"{n} X {i} = \",i*n)\n",
    "    i = i+1\n",
    "else:\n",
    "    print(\"DONE\")"
   ]
  },
  {
   "cell_type": "code",
   "execution_count": 1,
   "id": "a353aaa7",
   "metadata": {},
   "outputs": [
    {
     "name": "stdout",
     "output_type": "stream",
     "text": [
      "Enter a number: 6\n",
      "The number 6 is a not a prime number\n"
     ]
    }
   ],
   "source": [
    "# Program to find whether a given number is prime of not\n",
    "\n",
    "n = int(input(\"Enter a number: \"))\n",
    "if n==0:\n",
    "    print(f\"Zero is not a prime number\")\n",
    "else:\n",
    "    \n",
    "    prime = True\n",
    "    for i in range(2,n):\n",
    "        if n%i==0:\n",
    "            prime = False\n",
    "            break\n",
    "    if prime:\n",
    "        print(f\"The number {n} is a Prime Number\")\n",
    "    else:\n",
    "        print(f\"The number {n} is a not a prime number\")"
   ]
  },
  {
   "cell_type": "code",
   "execution_count": 4,
   "id": "9c785a00",
   "metadata": {},
   "outputs": [
    {
     "name": "stdout",
     "output_type": "stream",
     "text": [
      "Enter a number: 5\n",
      "The sum of first 5 natural numbers is  15\n"
     ]
    }
   ],
   "source": [
    "#Program to find sum of first n natural numbers using while loop\n",
    "\n",
    "n = int(input(\"Enter a number: \"))\n",
    "sum = 0\n",
    "i = 0\n",
    "while i<=n:\n",
    "    sum = sum + i\n",
    "    i= i+1\n",
    "\n",
    "print(f\"The sum of first {n} natural numbers is \",sum)\n",
    "    "
   ]
  },
  {
   "cell_type": "code",
   "execution_count": 6,
   "id": "9b1ebd7e",
   "metadata": {},
   "outputs": [
    {
     "name": "stdout",
     "output_type": "stream",
     "text": [
      "Enter a number: 4\n",
      "Factorial of the number 4 is 24.\n"
     ]
    }
   ],
   "source": [
    "#Factorial of the entered number using for loop\n",
    "n = int(input(\"Enter a number: \"))\n",
    "fact = 1\n",
    "for i in range(1,n+1):\n",
    "    fact = fact*i\n",
    "print(f\"Factorial of the number {n} is {fact}.\")    "
   ]
  },
  {
   "cell_type": "code",
   "execution_count": 7,
   "id": "fcc4fc4a",
   "metadata": {},
   "outputs": [
    {
     "name": "stdout",
     "output_type": "stream",
     "text": [
      "\n",
      "* \n",
      "* * \n",
      "* * * \n"
     ]
    }
   ],
   "source": [
    "# program to print star pattern\n",
    "#  *\n",
    "#  * *\n",
    "#  * * *\n",
    "\n",
    "n = 3\n",
    "for i in range(4):\n",
    "    print(\"* \"*i)\n",
    "\n"
   ]
  },
  {
   "cell_type": "code",
   "execution_count": 4,
   "id": "b508dbb0",
   "metadata": {},
   "outputs": [
    {
     "name": "stdout",
     "output_type": "stream",
     "text": [
      "   \n",
      "  * \n",
      " * * \n",
      "* * * \n"
     ]
    }
   ],
   "source": [
    "# program to print star pattern\n",
    "#   *\n",
    "#  * *\n",
    "# * * *\n",
    "\n",
    "n = 3\n",
    "for i in range(n+1):\n",
    "    print(\" \"*(n-i) + \"* \"*i)\n",
    "    i = i+1"
   ]
  },
  {
   "cell_type": "code",
   "execution_count": 28,
   "id": "760f26b4",
   "metadata": {},
   "outputs": [
    {
     "name": "stdout",
     "output_type": "stream",
     "text": [
      "Enter a number: 10\n",
      "          \n",
      "         *\n",
      "        ***\n",
      "       *****\n",
      "      *******\n",
      "     *********\n",
      "    ***********\n",
      "   *************\n",
      "  ***************\n",
      " *****************\n",
      "*******************\n"
     ]
    }
   ],
   "source": [
    "# program to print star pattern by taking input\n",
    "#   *\n",
    "#  ***\n",
    "# *****\n",
    "n = int(input(\"Enter a number: \"))\n",
    "for i in range(n+1):\n",
    "    print(\" \"*(n-i) + \"*\"*(2*i-1))\n",
    "    i = i+1"
   ]
  },
  {
   "cell_type": "code",
   "execution_count": 67,
   "id": "0995704f",
   "metadata": {},
   "outputs": [
    {
     "name": "stdout",
     "output_type": "stream",
     "text": [
      "Enter a number: 9\n",
      "* * * * * * * * * \n",
      "*               *\n",
      "*               *\n",
      "*               *\n",
      "*               *\n",
      "*               *\n",
      "*               *\n",
      "*               *\n",
      "* * * * * * * * * \n"
     ]
    }
   ],
   "source": [
    "# Program to print a square made of stars\n",
    "\n",
    "n = int(input(\"Enter a number: \"))\n",
    "for i in range(1,n+1):\n",
    "    if i==1 or i==n:\n",
    "        print(\"* \"*n)\n",
    "        i = i+1\n",
    "    else:\n",
    "        print(\"* \"+(\"  \"*(n-2))+\"*\")\n",
    "    "
   ]
  },
  {
   "cell_type": "code",
   "execution_count": 71,
   "id": "f2d16706",
   "metadata": {},
   "outputs": [
    {
     "name": "stdout",
     "output_type": "stream",
     "text": [
      "* * * * * \n",
      "*       *\n",
      "*       *\n",
      "*       *\n",
      "* * * * * \n"
     ]
    }
   ],
   "source": [
    "n = 5\n",
    "for i in range(1,n+1):\n",
    "    if i==1 or i==n:\n",
    "        print(\"* \"*n)\n",
    "        i = i+1\n",
    "    else:\n",
    "        print(\"* \"+(\"  \"*(n-2))+\"*\")"
   ]
  },
  {
   "cell_type": "code",
   "execution_count": 73,
   "id": "4cd77747",
   "metadata": {},
   "outputs": [
    {
     "name": "stdout",
     "output_type": "stream",
     "text": [
      "Enter a number: 5\n",
      "5 X 10 = 50\n",
      "5 X 9 = 45\n",
      "5 X 8 = 40\n",
      "5 X 7 = 35\n",
      "5 X 6 = 30\n",
      "5 X 5 = 25\n",
      "5 X 4 = 20\n",
      "5 X 3 = 15\n",
      "5 X 2 = 10\n",
      "5 X 1 = 5\n"
     ]
    }
   ],
   "source": [
    "#Multiplication table of n in reversed order using FOR loop\n",
    "\n",
    "n = int(input(\"Enter a number: \"))\n",
    "for i in range(1,11):\n",
    "    print(f\"{n} X {11-i} = {n*(11-i)}\")\n",
    "    i = i+1"
   ]
  },
  {
   "cell_type": "code",
   "execution_count": 76,
   "id": "a31ed11b",
   "metadata": {},
   "outputs": [
    {
     "name": "stdout",
     "output_type": "stream",
     "text": [
      "Enter a number: 5\n",
      "5 X 10 = 50\n",
      "5 X 9 = 45\n",
      "5 X 8 = 40\n",
      "5 X 7 = 35\n",
      "5 X 6 = 30\n",
      "5 X 5 = 25\n",
      "5 X 4 = 20\n",
      "5 X 3 = 15\n",
      "5 X 2 = 10\n",
      "5 X 1 = 5\n"
     ]
    }
   ],
   "source": [
    "#Multiplication table of n in reversed order using WHILE loop\n",
    "\n",
    "n = int(input(\"Enter a number: \"))\n",
    "i=10\n",
    "while i>=1:\n",
    "    print(f\"{n} X {i} = {n*i}\")\n",
    "    i = i-1"
   ]
  },
  {
   "cell_type": "code",
   "execution_count": null,
   "id": "787e2d7c",
   "metadata": {},
   "outputs": [],
   "source": []
  }
 ],
 "metadata": {
  "kernelspec": {
   "display_name": "Python 3 (ipykernel)",
   "language": "python",
   "name": "python3"
  },
  "language_info": {
   "codemirror_mode": {
    "name": "ipython",
    "version": 3
   },
   "file_extension": ".py",
   "mimetype": "text/x-python",
   "name": "python",
   "nbconvert_exporter": "python",
   "pygments_lexer": "ipython3",
   "version": "3.9.7"
  }
 },
 "nbformat": 4,
 "nbformat_minor": 5
}
