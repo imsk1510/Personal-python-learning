{
 "cells": [
  {
   "cell_type": "code",
   "execution_count": 1,
   "id": "7fca3d1d",
   "metadata": {},
   "outputs": [
    {
     "name": "stdout",
     "output_type": "stream",
     "text": [
      "58.0\n",
      "183.0\n",
      "75.5\n"
     ]
    }
   ],
   "source": [
    "#Functions :Its a group of statements performing specific task\n",
    "#to print avg \n",
    "\n",
    "def avg(m):\n",
    "    a = (sum(m)/len(m))\n",
    "    return a\n",
    "\n",
    "m1 = [56,64,10,78,97,43] #list\n",
    "print(avg(m1))\n",
    "\n",
    "m2 = (56,40,90,60,48,804) #tuple\n",
    "print(avg(m2))\n",
    "\n",
    "m3 = {56,40,158,67,48,84} #set\n",
    "print(avg(m3))\n"
   ]
  },
  {
   "cell_type": "code",
   "execution_count": 5,
   "id": "15b2a041",
   "metadata": {},
   "outputs": [
    {
     "name": "stdout",
     "output_type": "stream",
     "text": [
      "Good Morning, Kiaan.\n"
     ]
    }
   ],
   "source": [
    "# Greet a user using functions\n",
    "\n",
    "def greet(name):\n",
    "    greet_name = (f\"Good Morning, {name}.\")\n",
    "    return greet_name\n",
    "\n",
    "g = greet(\"Kiaan\")\n",
    "print(g)\n"
   ]
  },
  {
   "cell_type": "code",
   "execution_count": 4,
   "id": "9f57c3b5",
   "metadata": {},
   "outputs": [
    {
     "name": "stdout",
     "output_type": "stream",
     "text": [
      "Good Morning, Guest.\n"
     ]
    }
   ],
   "source": [
    "# Greet a user using functions,but if they dont provide name, Print \"GUEST\"\n",
    "\n",
    "def greet(name=\"Guest\"):\n",
    "    greet_name = (f\"Good Morning, {name}.\")\n",
    "    return greet_name\n",
    "\n",
    "g = greet()  #it will print \"Guest\" as the name is not provided\n",
    "print(g)"
   ]
  },
  {
   "cell_type": "code",
   "execution_count": 3,
   "id": "e8bb9098",
   "metadata": {},
   "outputs": [
    {
     "name": "stdout",
     "output_type": "stream",
     "text": [
      "115\n"
     ]
    }
   ],
   "source": [
    "# Function to add 2 numbers\n",
    "\n",
    "def mySum(n1,n2):\n",
    "    return n1+n2\n",
    "\n",
    "print(mySum(52,63))"
   ]
  },
  {
   "cell_type": "code",
   "execution_count": 6,
   "id": "f7701425",
   "metadata": {},
   "outputs": [
    {
     "name": "stdout",
     "output_type": "stream",
     "text": [
      "Enter a number: 6\n",
      "Factorial of number 6 is, 720\n"
     ]
    }
   ],
   "source": [
    "# Function to find the factorial of given number\n",
    "\n",
    "def factorial(num):\n",
    "    fact=1\n",
    "    for i in range(1,num+1):\n",
    "        fact=fact*i\n",
    "    return fact\n",
    "\n",
    "n = int(input(\"Enter a number: \"))\n",
    "print(f\"Factorial of number {n} is,\",factorial(n))"
   ]
  },
  {
   "cell_type": "code",
   "execution_count": null,
   "id": "f1e6d50e",
   "metadata": {},
   "outputs": [],
   "source": [
    "# Recursion Function to find the factorial of given number\n",
    "\n",
    "def factRecursive(n):\n",
    "    if n==1 or n==0:\n",
    "        return 1\n",
    "    else:\n",
    "        return n * factRecursive(n-1)\n",
    "\n",
    "f = int(input(\"Enter a number: \"))\n",
    "print(f\"Factorial of {f} is {factRecursive(f)}\")"
   ]
  },
  {
   "cell_type": "code",
   "execution_count": 5,
   "id": "abfa7073",
   "metadata": {},
   "outputs": [
    {
     "name": "stdout",
     "output_type": "stream",
     "text": [
      "79\n"
     ]
    }
   ],
   "source": [
    "# Program to find greatest of 3 using functions\n",
    "\n",
    "def greatest(n1,n2,n3):\n",
    "    if n1>n2:\n",
    "        g1=n1\n",
    "    else:\n",
    "        g1=n2\n",
    "    if n2>n3:\n",
    "        g2=n2\n",
    "    else:\n",
    "        g2=n3\n",
    "    if g1>g2:\n",
    "        g=g1\n",
    "    else:\n",
    "        g=g2\n",
    "    return g\n",
    "\n",
    "print(greatest(56,79,8))"
   ]
  },
  {
   "cell_type": "code",
   "execution_count": 8,
   "id": "9bcaa123",
   "metadata": {},
   "outputs": [
    {
     "name": "stdout",
     "output_type": "stream",
     "text": [
      "Enter the temperature in deg Celcius: 37\n",
      "The temperature 37 deg Celcius is 98.6 deg Farenheits.\n"
     ]
    }
   ],
   "source": [
    "#Program to convert Celcius to farenheit\n",
    "\n",
    "def farenheit(cel):\n",
    "    f = (cel * 9/5)+32\n",
    "    return f\n",
    "n = int(input(\"Enter the temperature in deg Celcius: \"))\n",
    "print(f\"The temperature {n} deg Celcius is {farenheit(n)} deg Farenheits.\")"
   ]
  },
  {
   "cell_type": "code",
   "execution_count": 16,
   "id": "75ba9602",
   "metadata": {},
   "outputs": [
    {
     "name": "stdout",
     "output_type": "stream",
     "text": [
      "Hello, how are you. "
     ]
    }
   ],
   "source": [
    "# How to prevent python print function to print new line at the end\n",
    "\n",
    "print(\"Hello,\",end=\" \")\n",
    "print(\"how\",end=\" \")\n",
    "print(\"are\",end=\" \")\n",
    "print(\"you.\",end=\" \")"
   ]
  },
  {
   "cell_type": "code",
   "execution_count": 30,
   "id": "0e14fdbf",
   "metadata": {},
   "outputs": [
    {
     "name": "stdout",
     "output_type": "stream",
     "text": [
      "Enter a number: 0\n",
      "Sum of first 0 natural number is 0\n"
     ]
    }
   ],
   "source": [
    "# Recursion Function to find the sum of first n number\n",
    "\n",
    "def sumrec(n):\n",
    "    if n<0:\n",
    "        return 0\n",
    "    else:\n",
    "        return (n+sumrec(n-1))\n",
    "    \n",
    "n = int(input(\"Enter a number: \"))\n",
    "if n>=0:\n",
    "    print(f\"Sum of first {n} natural number is {sumrec(n)}\")\n",
    "else:\n",
    "    print(\"Enter a positive number.\")"
   ]
  },
  {
   "cell_type": "code",
   "execution_count": 18,
   "id": "d938edbe",
   "metadata": {},
   "outputs": [
    {
     "name": "stdout",
     "output_type": "stream",
     "text": [
      "Enter the number of lines in star pattern: 6\n",
      "* * * * * * \n",
      "* * * * * \n",
      "* * * * \n",
      "* * * \n",
      "* * \n",
      "* \n",
      "\n",
      "None\n"
     ]
    }
   ],
   "source": [
    "#to print the star pattern \n",
    "def star(n):\n",
    "    for i in range (0,n+1):\n",
    "        print(\"* \"*(n-i))\n",
    "num = int(input(\"Enter the number of lines in star pattern: \"))\n",
    "print(star(num))"
   ]
  },
  {
   "cell_type": "code",
   "execution_count": 4,
   "id": "8bb28f64",
   "metadata": {},
   "outputs": [
    {
     "name": "stdout",
     "output_type": "stream",
     "text": [
      "Enter the Inch value: 8\n",
      "8 inches is 20.32 centimeters.\n"
     ]
    }
   ],
   "source": [
    "# Function to convert inches to cm\n",
    "\n",
    "def cm(inch):\n",
    "    cm = inch * 2.54\n",
    "    return cm\n",
    "\n",
    "i = int(input(\"Enter the Inch value: \"))\n",
    "print(f\"{i} inches is {cm(i)} centimeters.\")"
   ]
  },
  {
   "cell_type": "code",
   "execution_count": 5,
   "id": "cbd961b2",
   "metadata": {},
   "outputs": [
    {
     "name": "stdout",
     "output_type": "stream",
     "text": [
      "        Sohail is a good boy.       \n",
      "Sohail is a good boy.\n"
     ]
    }
   ],
   "source": [
    "# Program to strip a string\n",
    "\n",
    "this = \"        Sohail is a good boy.       \"\n",
    "print(this)\n",
    "print(this.strip()) #strip will remove the extra space in string from start n end\n"
   ]
  },
  {
   "cell_type": "code",
   "execution_count": 11,
   "id": "0aa33fa6",
   "metadata": {},
   "outputs": [
    {
     "name": "stdout",
     "output_type": "stream",
     "text": [
      "             Sohail       Kiaan is a very good boy.           \n",
      "Kiaan is a very good boy.\n"
     ]
    }
   ],
   "source": [
    "# Prog funct to remove a given word from a string and strip it at the same time\n",
    "\n",
    "def rem_strip(str,word):\n",
    "    newstr = str.replace(word,\"\")\n",
    "    return newstr.strip()\n",
    "\n",
    "sk = \"             Sohail       Kiaan is a very good boy.           \"\n",
    "print(sk)\n",
    "print(rem_strip(sk,\"Sohail\"))\n"
   ]
  },
  {
   "cell_type": "code",
   "execution_count": 8,
   "id": "8a100351",
   "metadata": {},
   "outputs": [
    {
     "name": "stdout",
     "output_type": "stream",
     "text": [
      "Enter a number: 5\n",
      "5 X 1 = 5\n",
      "5 X 2 = 10\n",
      "5 X 3 = 15\n",
      "5 X 4 = 20\n",
      "5 X 5 = 25\n",
      "5 X 6 = 30\n",
      "5 X 7 = 35\n",
      "5 X 8 = 40\n",
      "5 X 9 = 45\n",
      "5 X 10 = 50\n"
     ]
    }
   ],
   "source": [
    "#Function to print a multiplication table of a given number\n",
    "\n",
    "def multi(n):\n",
    "    for i in range(1,11):\n",
    "        print(n,\"X\",i,\"=\",n*i)\n",
    "              \n",
    "num = int(input(\"Enter a number: \"))\n",
    "(multi(num))\n"
   ]
  },
  {
   "cell_type": "code",
   "execution_count": null,
   "id": "6967acf8",
   "metadata": {},
   "outputs": [],
   "source": [
    "."
   ]
  }
 ],
 "metadata": {
  "kernelspec": {
   "display_name": "Python 3 (ipykernel)",
   "language": "python",
   "name": "python3"
  },
  "language_info": {
   "codemirror_mode": {
    "name": "ipython",
    "version": 3
   },
   "file_extension": ".py",
   "mimetype": "text/x-python",
   "name": "python",
   "nbconvert_exporter": "python",
   "pygments_lexer": "ipython3",
   "version": "3.9.7"
  }
 },
 "nbformat": 4,
 "nbformat_minor": 5
}
