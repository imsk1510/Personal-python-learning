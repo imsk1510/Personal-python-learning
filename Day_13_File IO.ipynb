{
 "cells": [
  {
   "cell_type": "code",
   "execution_count": 6,
   "id": "b9083118",
   "metadata": {},
   "outputs": [
    {
     "name": "stdout",
     "output_type": "stream",
     "text": [
      "When a lion was\n",
      "very weak\n",
      "he ordered pizza \n",
      "and ate alongwith lemontea.\n"
     ]
    }
   ],
   "source": [
    "#Files\n",
    "\n",
    "f = open('wordfile.txt',)    #by default the mode is r\n",
    "data = f.read()\n",
    "print(data)\n",
    "f.close()"
   ]
  },
  {
   "cell_type": "code",
   "execution_count": 5,
   "id": "403a3dbc",
   "metadata": {},
   "outputs": [
    {
     "name": "stdout",
     "output_type": "stream",
     "text": [
      "When a lion was\n",
      "\n",
      "very weak\n",
      "\n",
      "he ordered pizza \n",
      "\n",
      "and ate alongwith lemontea.\n"
     ]
    }
   ],
   "source": [
    "# Readline\n",
    "\n",
    "f = open(\"wordfile.txt\",)\n",
    "data = f.readline()#it will read the 1st line\n",
    "print(data)\n",
    "data = f.readline()#it will read 2nd line\n",
    "print(data)\n",
    "data = f.readline() #it will read 3rd line\n",
    "print(data)\n",
    "data = f.readline() #it will read 4th line\n",
    "print(data)\n",
    "f.close()"
   ]
  },
  {
   "cell_type": "code",
   "execution_count": 4,
   "id": "0918864f",
   "metadata": {},
   "outputs": [
    {
     "name": "stdout",
     "output_type": "stream",
     "text": [
      "He also had a burger from Burger King.\n"
     ]
    }
   ],
   "source": [
    "#write: It will erase the file completely and add the new line\n",
    "f = open(\"wordfile.txt\",\"w\")\n",
    "f.write(\"He also had a burger from Burger King.\")\n",
    "f.close()\n",
    "f = open(\"wordfile.txt\",)\n",
    "print(f.read())"
   ]
  },
  {
   "cell_type": "code",
   "execution_count": 5,
   "id": "1910a3fd",
   "metadata": {},
   "outputs": [
    {
     "name": "stdout",
     "output_type": "stream",
     "text": [
      "He also had a burger from Burger King.He loves eaching shawarma.\n"
     ]
    }
   ],
   "source": [
    "#Append: It will add the line at the back of existing text\n",
    "\n",
    "f = open(\"wordfile.txt\",\"a\")\n",
    "f.write(\"He loves eaching shawarma.\")\n",
    "f.close()\n",
    "f = open(\"wordfile.txt\",)\n",
    "print(f.read())\n",
    "\n"
   ]
  },
  {
   "cell_type": "code",
   "execution_count": 17,
   "id": "fab984a7",
   "metadata": {
    "scrolled": true
   },
   "outputs": [
    {
     "name": "stdout",
     "output_type": "stream",
     "text": [
      "Twinkle tWinkle little star.\n",
      "How I wonder what you are.\n",
      "Up above the world so high.\n",
      "Like a diamond in the sky.Hello everyoneHello everyoneHello everyoneHello everyoneHello everyoneHello everyoneHello everyoneHello everyoneHello everyone. Hello everyone. Hello everyone. Hello everyone. \n"
     ]
    }
   ],
   "source": [
    "#withstatement\n",
    "    \n",
    "with open(\"poem2.txt\",\"a\")as f:\n",
    "    a = f.write(\"Hello everyone. \")\n",
    "\n",
    "with open(\"poem2.txt\",\"r\")as f:\n",
    "    a = f.read()\n",
    "    print(a)"
   ]
  },
  {
   "cell_type": "code",
   "execution_count": 25,
   "id": "7733d9ec",
   "metadata": {},
   "outputs": [
    {
     "name": "stdout",
     "output_type": "stream",
     "text": [
      "Twinkle tWinkle little star.\n",
      "How I wonder what you are.\n",
      "Up above the world so high.\n",
      "Like a diamond in the sky.\n",
      "Yes, it contains the word little\n"
     ]
    }
   ],
   "source": [
    "#program to find if poem.txt contains \"little\" word\n",
    "\n",
    "with open(\"poem.txt\",) as f:\n",
    "    p = f.read()\n",
    "    print(p)\n",
    "    if (\"little\") in p.lower():\n",
    "        print(\"Yes, it contains the word little\")\n",
    "    else:\n",
    "        print(\"No, it doesnt contain the word little\")"
   ]
  },
  {
   "cell_type": "code",
   "execution_count": 11,
   "id": "fcbb82ba",
   "metadata": {},
   "outputs": [
    {
     "name": "stdout",
     "output_type": "stream",
     "text": [
      "Enter ur score: 5\n",
      "5\n"
     ]
    }
   ],
   "source": [
    "#update the hiscore file of game with latest highscore\n",
    "#also if the file is blank update it\n",
    "\n",
    "def game(n):\n",
    "    return n\n",
    "\n",
    "score = int(input(\"Enter ur score: \"))\n",
    "score = game(score)\n",
    "\n",
    "with open(\"hiscore.txt\") as f:\n",
    "    scr = f.read()\n",
    "    \n",
    "if scr == \"\":\n",
    "    with open(\"hiscore.txt\",\"w\") as f:\n",
    "        scr = f.write(str(score))\n",
    "elif score>int(scr):\n",
    "    with open(\"hiscore.txt\",\"w\") as f:\n",
    "        scr = f.write(str(score))\n",
    "        \n",
    "with open(\"hiscore.txt\") as f:\n",
    "    print(f.read())\n",
    "        "
   ]
  },
  {
   "cell_type": "code",
   "execution_count": 19,
   "id": "97f0052c",
   "metadata": {},
   "outputs": [],
   "source": [
    "#A program to generate multiplication table from 2 to 20 \n",
    "# and write it to different files. Place these files in a folder\n",
    "for i in range(2,21):\n",
    "    with open(f\"Tables\\Multiplication.tables.of.{i}.txt\",\"w\")as f:\n",
    "        f.write(f\"Following is the multiplication table of {i}\\n\")\n",
    "        for j in range(1,11):\n",
    "            f.write(f\"{i} X {j} = {i*j}\\n\")"
   ]
  },
  {
   "cell_type": "code",
   "execution_count": 20,
   "id": "07631cad",
   "metadata": {},
   "outputs": [
    {
     "name": "stdout",
     "output_type": "stream",
     "text": [
      "###### is a very good boy.\n",
      "he is married to ######.\n",
      "they have a very cute son named ######.\n",
      "###### eats samosa and farts a lot.\n"
     ]
    }
   ],
   "source": [
    "# replace the word donkey present in a file with ######\n",
    "\n",
    "with open(\"donkey.txt\")as f:\n",
    "    d = f.read()\n",
    "    d = d.lower()  #it will consider all the possible combinations with diff cases\n",
    "if \"donkey\" in d:\n",
    "    d = d.replace(\"donkey\",\"######\")\n",
    "    with open(\"donkey.txt\",\"w\")as f:\n",
    "        f.write(d)\n",
    "with open(\"donkey.txt\")as f:\n",
    "    print(f.read())\n"
   ]
  },
  {
   "cell_type": "code",
   "execution_count": 3,
   "id": "999eed54",
   "metadata": {},
   "outputs": [
    {
     "name": "stdout",
     "output_type": "stream",
     "text": [
      "###### is a very good boy.\n",
      "he is married to ######.\n",
      "they have a very cute son named ######.\n",
      "###### eats samosa and farts a lot.\n"
     ]
    }
   ],
   "source": [
    "# replace the list of abusive words present in a file with ######\n",
    "\n",
    "words = [\"idiot\",\"stupid\",\"donkey\",\"monkey\"]\n",
    "\n",
    "with open(\"donkey.txt\") as s:\n",
    "    file = s.read()\n",
    "    file = file.lower()\n",
    "for word in words:\n",
    "    file = file.replace(word,\"######\")\n",
    "    with open(\"donkey.txt\",\"w\") as s:\n",
    "        s.write(file)\n",
    "\n",
    "with open(\"donkey.txt\")as f:\n",
    "    print(f.read())"
   ]
  },
  {
   "cell_type": "code",
   "execution_count": 4,
   "id": "a863f280",
   "metadata": {},
   "outputs": [
    {
     "name": "stdout",
     "output_type": "stream",
     "text": [
      "Yes it contains, Python\n"
     ]
    }
   ],
   "source": [
    "# Program to read a log file and find if it contains Python\n",
    "\n",
    "with open(\"log.txt\",) as f:\n",
    "    p = f.read()\n",
    "    p = p.lower()\n",
    "if \"python\" in p:\n",
    "    print(\"Yes it contains, Python\")\n",
    "else:\n",
    "    print(\"No, it doesnt contain Python\")"
   ]
  },
  {
   "cell_type": "code",
   "execution_count": null,
   "id": "65928305",
   "metadata": {},
   "outputs": [],
   "source": [
    "# Program to find the number of line that contains Python\n",
    "\n",
    "p = True\n",
    "i = 1\n",
    "with open(\"log.txt\") as f:\n",
    "    while p:\n",
    "        p = f.readline()\n",
    "        if 'python' in p.lower():\n",
    "            print (f\"Yes Python is present in line number {i}\")\n",
    "            print(\"Line:\")\n",
    "            print (p)\n",
    "        i+=1"
   ]
  },
  {
   "cell_type": "code",
   "execution_count": 17,
   "id": "442586b7",
   "metadata": {},
   "outputs": [
    {
     "name": "stdout",
     "output_type": "stream",
     "text": [
      "Yes Python is present in line number 55\n",
      "Line:\n",
      "initialized  : Python has stopped working\n",
      "\n",
      "Yes Python is present in line number 60\n",
      "Line:\n",
      "03/22 08:51:06 TRACE  :..entity_initialize: pYthon interface 9.67.117.98, entity for rsvp allocated and \n",
      "\n"
     ]
    }
   ],
   "source": [
    "p = True\n",
    "i = 1\n",
    "with open(\"log.txt\") as f:\n",
    "    while p:\n",
    "        p = f.readline()\n",
    "        if 'python' in p.lower():\n",
    "            print (f\"Yes Python is present in line number {i}\")\n",
    "            print(\"Line:\")\n",
    "            print (p)\n",
    "        i+=1"
   ]
  },
  {
   "cell_type": "code",
   "execution_count": 1,
   "id": "2d1f512f",
   "metadata": {},
   "outputs": [
    {
     "name": "stdout",
     "output_type": "stream",
     "text": [
      "this is this file\n",
      "this is a good file\n"
     ]
    }
   ],
   "source": [
    "#Program to make a copy of a text file \"this.txt\"\n",
    "\n",
    "with open(\"this.txt\",) as f:\n",
    "    p = f.read()\n",
    "with open(\"copy_this.txt\",\"w\") as f:\n",
    "    r = f.write(p)\n",
    "with open(\"copy_this.txt\",) as f:\n",
    "    print(f.read())"
   ]
  },
  {
   "cell_type": "code",
   "execution_count": 2,
   "id": "fbfb8209",
   "metadata": {},
   "outputs": [
    {
     "name": "stdout",
     "output_type": "stream",
     "text": [
      "Yes both the files are identical.\n"
     ]
    }
   ],
   "source": [
    "#Program to find if two files are identical\n",
    "\n",
    "with open(\"this.txt\",) as f:\n",
    "    p = f.read()\n",
    "with open(\"copy_this.txt\",) as f:\n",
    "    q = f.read()\n",
    "    \n",
    "if p==q:\n",
    "    print(\"Yes both the files are identical.\")\n",
    "else:\n",
    "    print(\"No, both the files are not identical\")"
   ]
  },
  {
   "cell_type": "code",
   "execution_count": 5,
   "id": "e697a08d",
   "metadata": {},
   "outputs": [
    {
     "name": "stdout",
     "output_type": "stream",
     "text": [
      "\n"
     ]
    }
   ],
   "source": [
    "#Program to wipe out the contents of the file\n",
    "\n",
    "with open(\"sample.txt\",\"w\") as f:\n",
    "    f.write(\"\")\n",
    "with open(\"sample.txt\",) as f:\n",
    "    print(f.read())"
   ]
  },
  {
   "cell_type": "code",
   "execution_count": 8,
   "id": "cc26659b",
   "metadata": {},
   "outputs": [],
   "source": [
    "#program to rename a file in python\n",
    "import os  \n",
    "os.rename('guru99.txt','career.guru99.txt')"
   ]
  },
  {
   "cell_type": "code",
   "execution_count": null,
   "id": "5d586a9c",
   "metadata": {},
   "outputs": [],
   "source": []
  }
 ],
 "metadata": {
  "kernelspec": {
   "display_name": "Python 3 (ipykernel)",
   "language": "python",
   "name": "python3"
  },
  "language_info": {
   "codemirror_mode": {
    "name": "ipython",
    "version": 3
   },
   "file_extension": ".py",
   "mimetype": "text/x-python",
   "name": "python",
   "nbconvert_exporter": "python",
   "pygments_lexer": "ipython3",
   "version": "3.9.7"
  }
 },
 "nbformat": 4,
 "nbformat_minor": 5
}
